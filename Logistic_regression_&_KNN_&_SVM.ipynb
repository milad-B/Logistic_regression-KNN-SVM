{
  "cells": [
    {
      "cell_type": "markdown",
      "metadata": {
        "id": "view-in-github",
        "colab_type": "text"
      },
      "source": [
        "<a href=\"https://colab.research.google.com/github/milad-B/Logistic_regression-KNN-SVM/blob/main/Logistic_regression_%26_KNN_%26_SVM.ipynb\" target=\"_parent\"><img src=\"https://colab.research.google.com/assets/colab-badge.svg\" alt=\"Open In Colab\"/></a>"
      ]
    },
    {
      "cell_type": "markdown",
      "metadata": {
        "id": "LlKNgWeAf71Z"
      },
      "source": [
        "<img src=\"https://filoger.com/wp-content/uploads/2021/09/circle-logo-1536x1536.png\" alt=\"keras\" width=\"150\" height=\"150\">\n",
        "<h1 align=center><font size = 7>Lab 09 :\n",
        "    <br><br>Logistic Regression & KNN & SVM</font></h1>\n",
        "<h1 align=center><font size = 4>Filoger Summer School, 1401 | DeadLine: 12th Mordad, 23:00 </font></h1>\n",
        "\n"
      ]
    },
    {
      "cell_type": "markdown",
      "metadata": {
        "id": "JB8LKWQTf71c"
      },
      "source": [
        "## Question Sheet!\n",
        "\n",
        "<div class=\"alert alert-block alert-info\" style=\"margin-top: 20px\">\n",
        "<font size = 3>\n",
        "\n",
        "<b>Download the Question sheet from the following link!</b>\n",
        "-   <a href=\"https://new.edmodo.com/groups/filoger-summer-school-38664125\">Lab 09: Question sheet: Logistic Regression & KNN & SVM</a>\n",
        "</font>\n",
        "</div>\n"
      ]
    },
    {
      "cell_type": "markdown",
      "metadata": {
        "id": "rNx4Bh1Zf71d"
      },
      "source": [
        "# 🚢🛳 Titanic Prediction 🛳🚢"
      ]
    },
    {
      "cell_type": "markdown",
      "metadata": {
        "id": "jNDqXRhff71e"
      },
      "source": [
        "# PART 00"
      ]
    },
    {
      "cell_type": "markdown",
      "metadata": {
        "id": "azjW8tllf71e"
      },
      "source": [
        "# Step1: Import Libraries"
      ]
    },
    {
      "cell_type": "code",
      "execution_count": 246,
      "metadata": {
        "id": "_3pSc0M9f71f"
      },
      "outputs": [],
      "source": [
        "import numpy as np\n",
        "\n",
        "import pandas as pd\n",
        "\n",
        "import seaborn as sns\n",
        "\n",
        "import matplotlib.pyplot as plt\n",
        "\n",
        "from sklearn import preprocessing, svm \n",
        "\n",
        "from sklearn.neighbors import KNeighborsClassifier\n",
        "\n",
        "from sklearn.model_selection import train_test_split\n",
        "\n",
        "from sklearn.linear_model import LinearRegression\n",
        "\n",
        "from sklearn.preprocessing import StandardScaler \n",
        "\n",
        "from sklearn.metrics import classification_report, confusion_matrix, accuracy_score\n",
        "\n",
        "from joblib import dump , load"
      ]
    },
    {
      "cell_type": "markdown",
      "metadata": {
        "id": "HfIuFikZf71g"
      },
      "source": [
        "# Step2: Read Datasets"
      ]
    },
    {
      "cell_type": "code",
      "execution_count": 247,
      "metadata": {
        "execution": {
          "iopub.status.busy": "2022-07-26T06:10:16.837750Z",
          "iopub.status.idle": "2022-07-26T06:10:16.838076Z",
          "shell.execute_reply": "2022-07-26T06:10:16.837927Z",
          "shell.execute_reply.started": "2022-07-26T06:10:16.837912Z"
        },
        "id": "PFaqVddJf71g"
      },
      "outputs": [],
      "source": [
        "df = pd.read_csv('/content/Titanic.csv')\n",
        "\n"
      ]
    },
    {
      "cell_type": "markdown",
      "metadata": {
        "id": "0LGO5yL0f71h"
      },
      "source": [
        "# Step3: Check out the Data"
      ]
    },
    {
      "cell_type": "code",
      "source": [
        "df.head()"
      ],
      "metadata": {
        "colab": {
          "base_uri": "https://localhost:8080/",
          "height": 215
        },
        "id": "OJyZ5tFXgJVP",
        "outputId": "f327c80a-e49c-423b-c990-ca9a3a240143"
      },
      "execution_count": 248,
      "outputs": [
        {
          "output_type": "execute_result",
          "data": {
            "text/plain": [
              "   PassengerId  Survived  Pclass  \\\n",
              "0            1         0       3   \n",
              "1            2         1       1   \n",
              "2            3         1       3   \n",
              "3            4         1       1   \n",
              "4            5         0       3   \n",
              "\n",
              "                                                Name     Sex   Age  SibSp  \\\n",
              "0                            Braund, Mr. Owen Harris    male  22.0      1   \n",
              "1  Cumings, Mrs. John Bradley (Florence Briggs Th...  female  38.0      1   \n",
              "2                             Heikkinen, Miss. Laina  female  26.0      0   \n",
              "3       Futrelle, Mrs. Jacques Heath (Lily May Peel)  female  35.0      1   \n",
              "4                           Allen, Mr. William Henry    male  35.0      0   \n",
              "\n",
              "   Parch            Ticket     Fare Cabin Embarked  \n",
              "0      0         A/5 21171   7.2500   NaN        S  \n",
              "1      0          PC 17599  71.2833   C85        C  \n",
              "2      0  STON/O2. 3101282   7.9250   NaN        S  \n",
              "3      0            113803  53.1000  C123        S  \n",
              "4      0            373450   8.0500   NaN        S  "
            ],
            "text/html": [
              "\n",
              "  <div id=\"df-e8018fc4-6d9d-4471-b037-0aa5be15ca28\">\n",
              "    <div class=\"colab-df-container\">\n",
              "      <div>\n",
              "<style scoped>\n",
              "    .dataframe tbody tr th:only-of-type {\n",
              "        vertical-align: middle;\n",
              "    }\n",
              "\n",
              "    .dataframe tbody tr th {\n",
              "        vertical-align: top;\n",
              "    }\n",
              "\n",
              "    .dataframe thead th {\n",
              "        text-align: right;\n",
              "    }\n",
              "</style>\n",
              "<table border=\"1\" class=\"dataframe\">\n",
              "  <thead>\n",
              "    <tr style=\"text-align: right;\">\n",
              "      <th></th>\n",
              "      <th>PassengerId</th>\n",
              "      <th>Survived</th>\n",
              "      <th>Pclass</th>\n",
              "      <th>Name</th>\n",
              "      <th>Sex</th>\n",
              "      <th>Age</th>\n",
              "      <th>SibSp</th>\n",
              "      <th>Parch</th>\n",
              "      <th>Ticket</th>\n",
              "      <th>Fare</th>\n",
              "      <th>Cabin</th>\n",
              "      <th>Embarked</th>\n",
              "    </tr>\n",
              "  </thead>\n",
              "  <tbody>\n",
              "    <tr>\n",
              "      <th>0</th>\n",
              "      <td>1</td>\n",
              "      <td>0</td>\n",
              "      <td>3</td>\n",
              "      <td>Braund, Mr. Owen Harris</td>\n",
              "      <td>male</td>\n",
              "      <td>22.0</td>\n",
              "      <td>1</td>\n",
              "      <td>0</td>\n",
              "      <td>A/5 21171</td>\n",
              "      <td>7.2500</td>\n",
              "      <td>NaN</td>\n",
              "      <td>S</td>\n",
              "    </tr>\n",
              "    <tr>\n",
              "      <th>1</th>\n",
              "      <td>2</td>\n",
              "      <td>1</td>\n",
              "      <td>1</td>\n",
              "      <td>Cumings, Mrs. John Bradley (Florence Briggs Th...</td>\n",
              "      <td>female</td>\n",
              "      <td>38.0</td>\n",
              "      <td>1</td>\n",
              "      <td>0</td>\n",
              "      <td>PC 17599</td>\n",
              "      <td>71.2833</td>\n",
              "      <td>C85</td>\n",
              "      <td>C</td>\n",
              "    </tr>\n",
              "    <tr>\n",
              "      <th>2</th>\n",
              "      <td>3</td>\n",
              "      <td>1</td>\n",
              "      <td>3</td>\n",
              "      <td>Heikkinen, Miss. Laina</td>\n",
              "      <td>female</td>\n",
              "      <td>26.0</td>\n",
              "      <td>0</td>\n",
              "      <td>0</td>\n",
              "      <td>STON/O2. 3101282</td>\n",
              "      <td>7.9250</td>\n",
              "      <td>NaN</td>\n",
              "      <td>S</td>\n",
              "    </tr>\n",
              "    <tr>\n",
              "      <th>3</th>\n",
              "      <td>4</td>\n",
              "      <td>1</td>\n",
              "      <td>1</td>\n",
              "      <td>Futrelle, Mrs. Jacques Heath (Lily May Peel)</td>\n",
              "      <td>female</td>\n",
              "      <td>35.0</td>\n",
              "      <td>1</td>\n",
              "      <td>0</td>\n",
              "      <td>113803</td>\n",
              "      <td>53.1000</td>\n",
              "      <td>C123</td>\n",
              "      <td>S</td>\n",
              "    </tr>\n",
              "    <tr>\n",
              "      <th>4</th>\n",
              "      <td>5</td>\n",
              "      <td>0</td>\n",
              "      <td>3</td>\n",
              "      <td>Allen, Mr. William Henry</td>\n",
              "      <td>male</td>\n",
              "      <td>35.0</td>\n",
              "      <td>0</td>\n",
              "      <td>0</td>\n",
              "      <td>373450</td>\n",
              "      <td>8.0500</td>\n",
              "      <td>NaN</td>\n",
              "      <td>S</td>\n",
              "    </tr>\n",
              "  </tbody>\n",
              "</table>\n",
              "</div>\n",
              "      <button class=\"colab-df-convert\" onclick=\"convertToInteractive('df-e8018fc4-6d9d-4471-b037-0aa5be15ca28')\"\n",
              "              title=\"Convert this dataframe to an interactive table.\"\n",
              "              style=\"display:none;\">\n",
              "        \n",
              "  <svg xmlns=\"http://www.w3.org/2000/svg\" height=\"24px\"viewBox=\"0 0 24 24\"\n",
              "       width=\"24px\">\n",
              "    <path d=\"M0 0h24v24H0V0z\" fill=\"none\"/>\n",
              "    <path d=\"M18.56 5.44l.94 2.06.94-2.06 2.06-.94-2.06-.94-.94-2.06-.94 2.06-2.06.94zm-11 1L8.5 8.5l.94-2.06 2.06-.94-2.06-.94L8.5 2.5l-.94 2.06-2.06.94zm10 10l.94 2.06.94-2.06 2.06-.94-2.06-.94-.94-2.06-.94 2.06-2.06.94z\"/><path d=\"M17.41 7.96l-1.37-1.37c-.4-.4-.92-.59-1.43-.59-.52 0-1.04.2-1.43.59L10.3 9.45l-7.72 7.72c-.78.78-.78 2.05 0 2.83L4 21.41c.39.39.9.59 1.41.59.51 0 1.02-.2 1.41-.59l7.78-7.78 2.81-2.81c.8-.78.8-2.07 0-2.86zM5.41 20L4 18.59l7.72-7.72 1.47 1.35L5.41 20z\"/>\n",
              "  </svg>\n",
              "      </button>\n",
              "      \n",
              "  <style>\n",
              "    .colab-df-container {\n",
              "      display:flex;\n",
              "      flex-wrap:wrap;\n",
              "      gap: 12px;\n",
              "    }\n",
              "\n",
              "    .colab-df-convert {\n",
              "      background-color: #E8F0FE;\n",
              "      border: none;\n",
              "      border-radius: 50%;\n",
              "      cursor: pointer;\n",
              "      display: none;\n",
              "      fill: #1967D2;\n",
              "      height: 32px;\n",
              "      padding: 0 0 0 0;\n",
              "      width: 32px;\n",
              "    }\n",
              "\n",
              "    .colab-df-convert:hover {\n",
              "      background-color: #E2EBFA;\n",
              "      box-shadow: 0px 1px 2px rgba(60, 64, 67, 0.3), 0px 1px 3px 1px rgba(60, 64, 67, 0.15);\n",
              "      fill: #174EA6;\n",
              "    }\n",
              "\n",
              "    [theme=dark] .colab-df-convert {\n",
              "      background-color: #3B4455;\n",
              "      fill: #D2E3FC;\n",
              "    }\n",
              "\n",
              "    [theme=dark] .colab-df-convert:hover {\n",
              "      background-color: #434B5C;\n",
              "      box-shadow: 0px 1px 3px 1px rgba(0, 0, 0, 0.15);\n",
              "      filter: drop-shadow(0px 1px 2px rgba(0, 0, 0, 0.3));\n",
              "      fill: #FFFFFF;\n",
              "    }\n",
              "  </style>\n",
              "\n",
              "      <script>\n",
              "        const buttonEl =\n",
              "          document.querySelector('#df-e8018fc4-6d9d-4471-b037-0aa5be15ca28 button.colab-df-convert');\n",
              "        buttonEl.style.display =\n",
              "          google.colab.kernel.accessAllowed ? 'block' : 'none';\n",
              "\n",
              "        async function convertToInteractive(key) {\n",
              "          const element = document.querySelector('#df-e8018fc4-6d9d-4471-b037-0aa5be15ca28');\n",
              "          const dataTable =\n",
              "            await google.colab.kernel.invokeFunction('convertToInteractive',\n",
              "                                                     [key], {});\n",
              "          if (!dataTable) return;\n",
              "\n",
              "          const docLinkHtml = 'Like what you see? Visit the ' +\n",
              "            '<a target=\"_blank\" href=https://colab.research.google.com/notebooks/data_table.ipynb>data table notebook</a>'\n",
              "            + ' to learn more about interactive tables.';\n",
              "          element.innerHTML = '';\n",
              "          dataTable['output_type'] = 'display_data';\n",
              "          await google.colab.output.renderOutput(dataTable, element);\n",
              "          const docLink = document.createElement('div');\n",
              "          docLink.innerHTML = docLinkHtml;\n",
              "          element.appendChild(docLink);\n",
              "        }\n",
              "      </script>\n",
              "    </div>\n",
              "  </div>\n",
              "  "
            ]
          },
          "metadata": {},
          "execution_count": 248
        }
      ]
    },
    {
      "cell_type": "code",
      "source": [
        "df.shape"
      ],
      "metadata": {
        "colab": {
          "base_uri": "https://localhost:8080/"
        },
        "id": "DOZrz-TrgRJF",
        "outputId": "edaae565-1fbc-4739-85de-846d63ef8e3e"
      },
      "execution_count": 249,
      "outputs": [
        {
          "output_type": "execute_result",
          "data": {
            "text/plain": [
              "(891, 12)"
            ]
          },
          "metadata": {},
          "execution_count": 249
        }
      ]
    },
    {
      "cell_type": "code",
      "execution_count": 250,
      "metadata": {
        "colab": {
          "base_uri": "https://localhost:8080/"
        },
        "id": "wbGakgp-f71i",
        "outputId": "e95a46c1-5c0e-40f1-9fd6-4eeff759edd8"
      },
      "outputs": [
        {
          "output_type": "stream",
          "name": "stdout",
          "text": [
            "<class 'pandas.core.frame.DataFrame'>\n",
            "RangeIndex: 891 entries, 0 to 890\n",
            "Data columns (total 12 columns):\n",
            " #   Column       Non-Null Count  Dtype  \n",
            "---  ------       --------------  -----  \n",
            " 0   PassengerId  891 non-null    int64  \n",
            " 1   Survived     891 non-null    int64  \n",
            " 2   Pclass       891 non-null    int64  \n",
            " 3   Name         891 non-null    object \n",
            " 4   Sex          891 non-null    object \n",
            " 5   Age          714 non-null    float64\n",
            " 6   SibSp        891 non-null    int64  \n",
            " 7   Parch        891 non-null    int64  \n",
            " 8   Ticket       891 non-null    object \n",
            " 9   Fare         891 non-null    float64\n",
            " 10  Cabin        204 non-null    object \n",
            " 11  Embarked     889 non-null    object \n",
            "dtypes: float64(2), int64(5), object(5)\n",
            "memory usage: 83.7+ KB\n"
          ]
        }
      ],
      "source": [
        "df.info()"
      ]
    },
    {
      "cell_type": "code",
      "source": [
        "df.describe()"
      ],
      "metadata": {
        "colab": {
          "base_uri": "https://localhost:8080/",
          "height": 300
        },
        "id": "2XoGWUOJoiRy",
        "outputId": "9710994d-f290-4ddc-cb94-0d41059d67fd"
      },
      "execution_count": 251,
      "outputs": [
        {
          "output_type": "execute_result",
          "data": {
            "text/plain": [
              "       PassengerId    Survived      Pclass         Age       SibSp  \\\n",
              "count   891.000000  891.000000  891.000000  714.000000  891.000000   \n",
              "mean    446.000000    0.383838    2.308642   29.699118    0.523008   \n",
              "std     257.353842    0.486592    0.836071   14.526497    1.102743   \n",
              "min       1.000000    0.000000    1.000000    0.420000    0.000000   \n",
              "25%     223.500000    0.000000    2.000000   20.125000    0.000000   \n",
              "50%     446.000000    0.000000    3.000000   28.000000    0.000000   \n",
              "75%     668.500000    1.000000    3.000000   38.000000    1.000000   \n",
              "max     891.000000    1.000000    3.000000   80.000000    8.000000   \n",
              "\n",
              "            Parch        Fare  \n",
              "count  891.000000  891.000000  \n",
              "mean     0.381594   32.204208  \n",
              "std      0.806057   49.693429  \n",
              "min      0.000000    0.000000  \n",
              "25%      0.000000    7.910400  \n",
              "50%      0.000000   14.454200  \n",
              "75%      0.000000   31.000000  \n",
              "max      6.000000  512.329200  "
            ],
            "text/html": [
              "\n",
              "  <div id=\"df-9d93290c-08ce-4fc0-92fc-1fb905d976d6\">\n",
              "    <div class=\"colab-df-container\">\n",
              "      <div>\n",
              "<style scoped>\n",
              "    .dataframe tbody tr th:only-of-type {\n",
              "        vertical-align: middle;\n",
              "    }\n",
              "\n",
              "    .dataframe tbody tr th {\n",
              "        vertical-align: top;\n",
              "    }\n",
              "\n",
              "    .dataframe thead th {\n",
              "        text-align: right;\n",
              "    }\n",
              "</style>\n",
              "<table border=\"1\" class=\"dataframe\">\n",
              "  <thead>\n",
              "    <tr style=\"text-align: right;\">\n",
              "      <th></th>\n",
              "      <th>PassengerId</th>\n",
              "      <th>Survived</th>\n",
              "      <th>Pclass</th>\n",
              "      <th>Age</th>\n",
              "      <th>SibSp</th>\n",
              "      <th>Parch</th>\n",
              "      <th>Fare</th>\n",
              "    </tr>\n",
              "  </thead>\n",
              "  <tbody>\n",
              "    <tr>\n",
              "      <th>count</th>\n",
              "      <td>891.000000</td>\n",
              "      <td>891.000000</td>\n",
              "      <td>891.000000</td>\n",
              "      <td>714.000000</td>\n",
              "      <td>891.000000</td>\n",
              "      <td>891.000000</td>\n",
              "      <td>891.000000</td>\n",
              "    </tr>\n",
              "    <tr>\n",
              "      <th>mean</th>\n",
              "      <td>446.000000</td>\n",
              "      <td>0.383838</td>\n",
              "      <td>2.308642</td>\n",
              "      <td>29.699118</td>\n",
              "      <td>0.523008</td>\n",
              "      <td>0.381594</td>\n",
              "      <td>32.204208</td>\n",
              "    </tr>\n",
              "    <tr>\n",
              "      <th>std</th>\n",
              "      <td>257.353842</td>\n",
              "      <td>0.486592</td>\n",
              "      <td>0.836071</td>\n",
              "      <td>14.526497</td>\n",
              "      <td>1.102743</td>\n",
              "      <td>0.806057</td>\n",
              "      <td>49.693429</td>\n",
              "    </tr>\n",
              "    <tr>\n",
              "      <th>min</th>\n",
              "      <td>1.000000</td>\n",
              "      <td>0.000000</td>\n",
              "      <td>1.000000</td>\n",
              "      <td>0.420000</td>\n",
              "      <td>0.000000</td>\n",
              "      <td>0.000000</td>\n",
              "      <td>0.000000</td>\n",
              "    </tr>\n",
              "    <tr>\n",
              "      <th>25%</th>\n",
              "      <td>223.500000</td>\n",
              "      <td>0.000000</td>\n",
              "      <td>2.000000</td>\n",
              "      <td>20.125000</td>\n",
              "      <td>0.000000</td>\n",
              "      <td>0.000000</td>\n",
              "      <td>7.910400</td>\n",
              "    </tr>\n",
              "    <tr>\n",
              "      <th>50%</th>\n",
              "      <td>446.000000</td>\n",
              "      <td>0.000000</td>\n",
              "      <td>3.000000</td>\n",
              "      <td>28.000000</td>\n",
              "      <td>0.000000</td>\n",
              "      <td>0.000000</td>\n",
              "      <td>14.454200</td>\n",
              "    </tr>\n",
              "    <tr>\n",
              "      <th>75%</th>\n",
              "      <td>668.500000</td>\n",
              "      <td>1.000000</td>\n",
              "      <td>3.000000</td>\n",
              "      <td>38.000000</td>\n",
              "      <td>1.000000</td>\n",
              "      <td>0.000000</td>\n",
              "      <td>31.000000</td>\n",
              "    </tr>\n",
              "    <tr>\n",
              "      <th>max</th>\n",
              "      <td>891.000000</td>\n",
              "      <td>1.000000</td>\n",
              "      <td>3.000000</td>\n",
              "      <td>80.000000</td>\n",
              "      <td>8.000000</td>\n",
              "      <td>6.000000</td>\n",
              "      <td>512.329200</td>\n",
              "    </tr>\n",
              "  </tbody>\n",
              "</table>\n",
              "</div>\n",
              "      <button class=\"colab-df-convert\" onclick=\"convertToInteractive('df-9d93290c-08ce-4fc0-92fc-1fb905d976d6')\"\n",
              "              title=\"Convert this dataframe to an interactive table.\"\n",
              "              style=\"display:none;\">\n",
              "        \n",
              "  <svg xmlns=\"http://www.w3.org/2000/svg\" height=\"24px\"viewBox=\"0 0 24 24\"\n",
              "       width=\"24px\">\n",
              "    <path d=\"M0 0h24v24H0V0z\" fill=\"none\"/>\n",
              "    <path d=\"M18.56 5.44l.94 2.06.94-2.06 2.06-.94-2.06-.94-.94-2.06-.94 2.06-2.06.94zm-11 1L8.5 8.5l.94-2.06 2.06-.94-2.06-.94L8.5 2.5l-.94 2.06-2.06.94zm10 10l.94 2.06.94-2.06 2.06-.94-2.06-.94-.94-2.06-.94 2.06-2.06.94z\"/><path d=\"M17.41 7.96l-1.37-1.37c-.4-.4-.92-.59-1.43-.59-.52 0-1.04.2-1.43.59L10.3 9.45l-7.72 7.72c-.78.78-.78 2.05 0 2.83L4 21.41c.39.39.9.59 1.41.59.51 0 1.02-.2 1.41-.59l7.78-7.78 2.81-2.81c.8-.78.8-2.07 0-2.86zM5.41 20L4 18.59l7.72-7.72 1.47 1.35L5.41 20z\"/>\n",
              "  </svg>\n",
              "      </button>\n",
              "      \n",
              "  <style>\n",
              "    .colab-df-container {\n",
              "      display:flex;\n",
              "      flex-wrap:wrap;\n",
              "      gap: 12px;\n",
              "    }\n",
              "\n",
              "    .colab-df-convert {\n",
              "      background-color: #E8F0FE;\n",
              "      border: none;\n",
              "      border-radius: 50%;\n",
              "      cursor: pointer;\n",
              "      display: none;\n",
              "      fill: #1967D2;\n",
              "      height: 32px;\n",
              "      padding: 0 0 0 0;\n",
              "      width: 32px;\n",
              "    }\n",
              "\n",
              "    .colab-df-convert:hover {\n",
              "      background-color: #E2EBFA;\n",
              "      box-shadow: 0px 1px 2px rgba(60, 64, 67, 0.3), 0px 1px 3px 1px rgba(60, 64, 67, 0.15);\n",
              "      fill: #174EA6;\n",
              "    }\n",
              "\n",
              "    [theme=dark] .colab-df-convert {\n",
              "      background-color: #3B4455;\n",
              "      fill: #D2E3FC;\n",
              "    }\n",
              "\n",
              "    [theme=dark] .colab-df-convert:hover {\n",
              "      background-color: #434B5C;\n",
              "      box-shadow: 0px 1px 3px 1px rgba(0, 0, 0, 0.15);\n",
              "      filter: drop-shadow(0px 1px 2px rgba(0, 0, 0, 0.3));\n",
              "      fill: #FFFFFF;\n",
              "    }\n",
              "  </style>\n",
              "\n",
              "      <script>\n",
              "        const buttonEl =\n",
              "          document.querySelector('#df-9d93290c-08ce-4fc0-92fc-1fb905d976d6 button.colab-df-convert');\n",
              "        buttonEl.style.display =\n",
              "          google.colab.kernel.accessAllowed ? 'block' : 'none';\n",
              "\n",
              "        async function convertToInteractive(key) {\n",
              "          const element = document.querySelector('#df-9d93290c-08ce-4fc0-92fc-1fb905d976d6');\n",
              "          const dataTable =\n",
              "            await google.colab.kernel.invokeFunction('convertToInteractive',\n",
              "                                                     [key], {});\n",
              "          if (!dataTable) return;\n",
              "\n",
              "          const docLinkHtml = 'Like what you see? Visit the ' +\n",
              "            '<a target=\"_blank\" href=https://colab.research.google.com/notebooks/data_table.ipynb>data table notebook</a>'\n",
              "            + ' to learn more about interactive tables.';\n",
              "          element.innerHTML = '';\n",
              "          dataTable['output_type'] = 'display_data';\n",
              "          await google.colab.output.renderOutput(dataTable, element);\n",
              "          const docLink = document.createElement('div');\n",
              "          docLink.innerHTML = docLinkHtml;\n",
              "          element.appendChild(docLink);\n",
              "        }\n",
              "      </script>\n",
              "    </div>\n",
              "  </div>\n",
              "  "
            ]
          },
          "metadata": {},
          "execution_count": 251
        }
      ]
    },
    {
      "cell_type": "code",
      "source": [
        "df.isnull().sum()"
      ],
      "metadata": {
        "colab": {
          "base_uri": "https://localhost:8080/"
        },
        "id": "AFWCjqpKoupa",
        "outputId": "970446aa-a5de-4627-d9f1-d6b78a9f428b"
      },
      "execution_count": 252,
      "outputs": [
        {
          "output_type": "execute_result",
          "data": {
            "text/plain": [
              "PassengerId      0\n",
              "Survived         0\n",
              "Pclass           0\n",
              "Name             0\n",
              "Sex              0\n",
              "Age            177\n",
              "SibSp            0\n",
              "Parch            0\n",
              "Ticket           0\n",
              "Fare             0\n",
              "Cabin          687\n",
              "Embarked         2\n",
              "dtype: int64"
            ]
          },
          "metadata": {},
          "execution_count": 252
        }
      ]
    },
    {
      "cell_type": "code",
      "source": [
        "df['Survived'].value_counts()\n",
        "sns.countplot(x='Survived', data=df, palette='hls')"
      ],
      "metadata": {
        "colab": {
          "base_uri": "https://localhost:8080/",
          "height": 296
        },
        "id": "0CyLVyBxo2al",
        "outputId": "d48ecd77-5717-48be-cf9d-423ecc5966a3"
      },
      "execution_count": 253,
      "outputs": [
        {
          "output_type": "execute_result",
          "data": {
            "text/plain": [
              "<matplotlib.axes._subplots.AxesSubplot at 0x7efc3fcd9810>"
            ]
          },
          "metadata": {},
          "execution_count": 253
        },
        {
          "output_type": "display_data",
          "data": {
            "text/plain": [
              "<Figure size 432x288 with 1 Axes>"
            ],
            "image/png": "[encoded data removed]"
          },
          "metadata": {
            "needs_background": "light"
          }
        }
      ]
    },
    {
      "cell_type": "code",
      "source": [
        "pd.crosstab(df.Sex, df.Survived).plot(kind='bar')"
      ],
      "metadata": {
        "colab": {
          "base_uri": "https://localhost:8080/",
          "height": 321
        },
        "id": "fR72h-abprQN",
        "outputId": "73b79172-75ce-4967-dd07-75e814be718f"
      },
      "execution_count": 254,
      "outputs": [
        {
          "output_type": "execute_result",
          "data": {
            "text/plain": [
              "<matplotlib.axes._subplots.AxesSubplot at 0x7efc3fd44c50>"
            ]
          },
          "metadata": {},
          "execution_count": 254
        },
        {
          "output_type": "display_data",
          "data": {
            "text/plain": [
              "<Figure size 432x288 with 1 Axes>"
            ],
            "image/png": "[encoded data removed]"
          },
          "metadata": {
            "needs_background": "light"
          }
        }
      ]
    },
    {
      "cell_type": "code",
      "source": [
        "pd.crosstab(df.Pclass, df.Survived).plot(kind='bar')"
      ],
      "metadata": {
        "colab": {
          "base_uri": "https://localhost:8080/",
          "height": 293
        },
        "id": "liLz7Ktcp2RT",
        "outputId": "105f9da1-37d9-4ff4-de9e-5e394dd595ec"
      },
      "execution_count": 255,
      "outputs": [
        {
          "output_type": "execute_result",
          "data": {
            "text/plain": [
              "<matplotlib.axes._subplots.AxesSubplot at 0x7efc3fdfea90>"
            ]
          },
          "metadata": {},
          "execution_count": 255
        },
        {
          "output_type": "display_data",
          "data": {
            "text/plain": [
              "<Figure size 432x288 with 1 Axes>"
            ],
            "image/png": "[encoded data removed]"
          },
          "metadata": {
            "needs_background": "light"
          }
        }
      ]
    },
    {
      "cell_type": "markdown",
      "metadata": {
        "id": "SP-9LFajf71i"
      },
      "source": [
        "## Step4: Data preparation \n",
        "<hr>\n",
        "<h2>Dealing with Missing Data"
      ]
    },
    {
      "cell_type": "markdown",
      "source": [
        "###Dealing with age missing data "
      ],
      "metadata": {
        "id": "SZMbWoKLFzUu"
      }
    },
    {
      "cell_type": "code",
      "execution_count": 256,
      "metadata": {
        "execution": {
          "iopub.status.busy": "2022-07-26T06:10:16.865403Z",
          "iopub.status.idle": "2022-07-26T06:10:16.865722Z",
          "shell.execute_reply": "2022-07-26T06:10:16.865580Z",
          "shell.execute_reply.started": "2022-07-26T06:10:16.865564Z"
        },
        "id": "RYwCG2Suf71j"
      },
      "outputs": [],
      "source": [
        "df['Initial']=0\n",
        "for i in df:\n",
        "    df['Initial'] = df.Name.str.extract('([A-Za-z]+)\\.')"
      ]
    },
    {
      "cell_type": "code",
      "source": [
        "pd.crosstab(df.Initial, df.Sex).plot(kind = 'bar')"
      ],
      "metadata": {
        "colab": {
          "base_uri": "https://localhost:8080/",
          "height": 332
        },
        "id": "7xHLs289sa8T",
        "outputId": "0859f7e5-1107-40f7-ad3c-898846819953"
      },
      "execution_count": 257,
      "outputs": [
        {
          "output_type": "execute_result",
          "data": {
            "text/plain": [
              "<matplotlib.axes._subplots.AxesSubplot at 0x7efc400aa410>"
            ]
          },
          "metadata": {},
          "execution_count": 257
        },
        {
          "output_type": "display_data",
          "data": {
            "text/plain": [
              "<Figure size 432x288 with 1 Axes>"
            ],
            "image/png": "[encoded data removed]"
          },
          "metadata": {
            "needs_background": "light"
          }
        }
      ]
    },
    {
      "cell_type": "code",
      "source": [
        "df['Initial'].replace(['Mlle','Mme','Ms','Dr','Major','Lady','Countess','Jonkheer','Col','Rev','Capt','Sir','Don'],\n",
        "                        ['Miss','Miss','Miss','Mr','Mr','Mrs','Mrs','Other','Other','Other','Mr','Mr','Mr'],inplace=True)"
      ],
      "metadata": {
        "id": "o7Th8gTFs3Gc"
      },
      "execution_count": 258,
      "outputs": []
    },
    {
      "cell_type": "code",
      "source": [
        "pd.crosstab(df.Initial, df.Sex).plot(kind = 'bar')"
      ],
      "metadata": {
        "colab": {
          "base_uri": "https://localhost:8080/",
          "height": 320
        },
        "id": "nRXkb3a7tsBD",
        "outputId": "265d416e-8c17-4102-8f6b-339e5984cb33"
      },
      "execution_count": 259,
      "outputs": [
        {
          "output_type": "execute_result",
          "data": {
            "text/plain": [
              "<matplotlib.axes._subplots.AxesSubplot at 0x7efc403ade50>"
            ]
          },
          "metadata": {},
          "execution_count": 259
        },
        {
          "output_type": "display_data",
          "data": {
            "text/plain": [
              "<Figure size 432x288 with 1 Axes>"
            ],
            "image/png": "[encoded data removed]"
          },
          "metadata": {
            "needs_background": "light"
          }
        }
      ]
    },
    {
      "cell_type": "code",
      "source": [
        "df.groupby('Initial')['Age'].mean()"
      ],
      "metadata": {
        "colab": {
          "base_uri": "https://localhost:8080/"
        },
        "id": "kZYZPF-Pt3vc",
        "outputId": "9f1c6eb4-3ac9-4e9a-bb4e-0653020bf901"
      },
      "execution_count": 260,
      "outputs": [
        {
          "output_type": "execute_result",
          "data": {
            "text/plain": [
              "Initial\n",
              "Master     4.574167\n",
              "Miss      21.860000\n",
              "Mr        32.739609\n",
              "Mrs       35.981818\n",
              "Other     45.888889\n",
              "Name: Age, dtype: float64"
            ]
          },
          "metadata": {},
          "execution_count": 260
        }
      ]
    },
    {
      "cell_type": "code",
      "source": [
        "df.loc[ (df.Age.isnull()) & (df.Initial=='Master'), 'Age'] = 4\n",
        "df.loc[ (df.Age.isnull()) & (df.Initial=='Miss'), 'Age'] = 22\n",
        "df.loc[ (df.Age.isnull()) & (df.Initial=='Mr'), 'Age'] = 33\n",
        "df.loc[ (df.Age.isnull()) & (df.Initial=='Mrs'), 'Age'] =35\n",
        "df.loc[ (df.Age.isnull()) & (df.Initial=='Other'), 'Age'] = 47"
      ],
      "metadata": {
        "id": "Rjh3zj55uAeV"
      },
      "execution_count": 261,
      "outputs": []
    },
    {
      "cell_type": "code",
      "source": [
        "\n",
        "df.isnull().sum()"
      ],
      "metadata": {
        "colab": {
          "base_uri": "https://localhost:8080/"
        },
        "id": "ra-BSUhquj3V",
        "outputId": "49a7645d-1ca9-45c6-a4c1-32f29ff4def5"
      },
      "execution_count": 262,
      "outputs": [
        {
          "output_type": "execute_result",
          "data": {
            "text/plain": [
              "PassengerId      0\n",
              "Survived         0\n",
              "Pclass           0\n",
              "Name             0\n",
              "Sex              0\n",
              "Age              0\n",
              "SibSp            0\n",
              "Parch            0\n",
              "Ticket           0\n",
              "Fare             0\n",
              "Cabin          687\n",
              "Embarked         2\n",
              "Initial          0\n",
              "dtype: int64"
            ]
          },
          "metadata": {},
          "execution_count": 262
        }
      ]
    },
    {
      "cell_type": "markdown",
      "source": [
        "###Dealing with embarked missing data "
      ],
      "metadata": {
        "id": "sbb0zQXlF-Lc"
      }
    },
    {
      "cell_type": "code",
      "source": [
        "pd.crosstab(df.Embarked, df.Survived).plot(kind='bar')"
      ],
      "metadata": {
        "colab": {
          "base_uri": "https://localhost:8080/",
          "height": 294
        },
        "id": "q-pVE5uSGDVP",
        "outputId": "99dedda4-c971-43c5-d876-49f6e8c4b1d0"
      },
      "execution_count": 263,
      "outputs": [
        {
          "output_type": "execute_result",
          "data": {
            "text/plain": [
              "<matplotlib.axes._subplots.AxesSubplot at 0x7efc44fe3710>"
            ]
          },
          "metadata": {},
          "execution_count": 263
        },
        {
          "output_type": "display_data",
          "data": {
            "text/plain": [
              "<Figure size 432x288 with 1 Axes>"
            ],
            "image/png": "[encoded data removed]"
          },
          "metadata": {
            "needs_background": "light"
          }
        }
      ]
    },
    {
      "cell_type": "code",
      "source": [
        "f,ax=plt.subplots(2,2,figsize=(20,15))\n",
        "sns.countplot('Embarked', data = df, ax = ax[0,0])\n",
        "ax[0,0].set_title('No. Of Passengers Boarded')\n",
        "sns.countplot('Embarked', hue='Sex', data = df, ax = ax[0,1])\n",
        "ax[0,1].set_title('Male-Female Split for Embarked')\n",
        "sns.countplot('Embarked', hue='Survived' , data = df, ax = ax[1,0])\n",
        "ax[1,0].set_title('Embarked vs Survived')\n",
        "sns.countplot('Embarked', hue='Pclass', data = df, ax = ax[1,1])\n",
        "ax[1,1].set_title('Embarked vs Pclass')\n",
        "plt.subplots_adjust(wspace=0.2,hspace=0.5)\n",
        "plt.show()"
      ],
      "metadata": {
        "colab": {
          "base_uri": "https://localhost:8080/",
          "height": 996
        },
        "id": "_7zUWcvIGKBs",
        "outputId": "701cbfd8-9edb-4c91-bc68-c8bdf11ef893"
      },
      "execution_count": 264,
      "outputs": [
        {
          "output_type": "stream",
          "name": "stderr",
          "text": [
            "/usr/local/lib/python3.7/dist-packages/seaborn/_decorators.py:43: FutureWarning: Pass the following variable as a keyword arg: x. From version 0.12, the only valid positional argument will be `data`, and passing other arguments without an explicit keyword will result in an error or misinterpretation.\n",
            "  FutureWarning\n",
            "/usr/local/lib/python3.7/dist-packages/seaborn/_decorators.py:43: FutureWarning: Pass the following variable as a keyword arg: x. From version 0.12, the only valid positional argument will be `data`, and passing other arguments without an explicit keyword will result in an error or misinterpretation.\n",
            "  FutureWarning\n",
            "/usr/local/lib/python3.7/dist-packages/seaborn/_decorators.py:43: FutureWarning: Pass the following variable as a keyword arg: x. From version 0.12, the only valid positional argument will be `data`, and passing other arguments without an explicit keyword will result in an error or misinterpretation.\n",
            "  FutureWarning\n",
            "/usr/local/lib/python3.7/dist-packages/seaborn/_decorators.py:43: FutureWarning: Pass the following variable as a keyword arg: x. From version 0.12, the only valid positional argument will be `data`, and passing other arguments without an explicit keyword will result in an error or misinterpretation.\n",
            "  FutureWarning\n"
          ]
        },
        {
          "output_type": "display_data",
          "data": {
            "text/plain": [
              "<Figure size 1440x1080 with 4 Axes>"
            ],
            "image/png": "[encoded data removed]"
          },
          "metadata": {
            "needs_background": "light"
          }
        }
      ]
    },
    {
      "cell_type": "code",
      "source": [
        "df['Embarked'].fillna('S', inplace=True)"
      ],
      "metadata": {
        "id": "vFBgMZHwHyae"
      },
      "execution_count": 265,
      "outputs": []
    },
    {
      "cell_type": "code",
      "source": [
        "df.isnull().sum()"
      ],
      "metadata": {
        "colab": {
          "base_uri": "https://localhost:8080/"
        },
        "id": "OYrnBF70H57c",
        "outputId": "555e4cc2-8b09-41b3-d972-62ce8d785e94"
      },
      "execution_count": 266,
      "outputs": [
        {
          "output_type": "execute_result",
          "data": {
            "text/plain": [
              "PassengerId      0\n",
              "Survived         0\n",
              "Pclass           0\n",
              "Name             0\n",
              "Sex              0\n",
              "Age              0\n",
              "SibSp            0\n",
              "Parch            0\n",
              "Ticket           0\n",
              "Fare             0\n",
              "Cabin          687\n",
              "Embarked         0\n",
              "Initial          0\n",
              "dtype: int64"
            ]
          },
          "metadata": {},
          "execution_count": 266
        }
      ]
    },
    {
      "cell_type": "code",
      "source": [
        "f,ax = plt.subplots(figsize = (12,9))\n",
        "sns.heatmap(df.corr(), annot=True, square=True)"
      ],
      "metadata": {
        "colab": {
          "base_uri": "https://localhost:8080/",
          "height": 558
        },
        "id": "efjKXiksIm8o",
        "outputId": "ddd0e4b6-3ebd-41a0-ce66-4f37185f63b0"
      },
      "execution_count": 267,
      "outputs": [
        {
          "output_type": "execute_result",
          "data": {
            "text/plain": [
              "<matplotlib.axes._subplots.AxesSubplot at 0x7efc4203c190>"
            ]
          },
          "metadata": {},
          "execution_count": 267
        },
        {
          "output_type": "display_data",
          "data": {
            "text/plain": [
              "<Figure size 864x648 with 2 Axes>"
            ],
            "image/png": "[encoded data removed]"
          },
          "metadata": {
            "needs_background": "light"
          }
        }
      ]
    },
    {
      "cell_type": "markdown",
      "metadata": {
        "id": "zwwqwR2_f71k"
      },
      "source": [
        "#### Hint: Now, we don't have any Missing Data."
      ]
    },
    {
      "cell_type": "markdown",
      "metadata": {
        "id": "Hyr-G0O3f71k"
      },
      "source": [
        "## 🟣Creating Dummy Variables"
      ]
    },
    {
      "cell_type": "markdown",
      "source": [
        "###Encode data"
      ],
      "metadata": {
        "id": "EiVsFIVUK5GW"
      }
    },
    {
      "cell_type": "code",
      "source": [
        "#age\n",
        "df['Age_band']=0\n",
        "df.loc[ df['Age']<=16 , 'Age_band']=0\n",
        "df.loc[ (df['Age']>16) & (df['Age']<=32) , 'Age_band']=1\n",
        "df.loc[ (df['Age']>32) & (df['Age']<=48) , 'Age_band']=2\n",
        "df.loc[ (df['Age']>48) & (df['Age']<=64) , 'Age_band']=3\n",
        "df.loc[ df['Age']>64, 'Age_band']=4\n"
      ],
      "metadata": {
        "id": "W9TLlJLLLZef"
      },
      "execution_count": 268,
      "outputs": []
    },
    {
      "cell_type": "code",
      "source": [
        "#SibSp & Parch\n",
        "\n",
        "df['Family_Size']=0\n",
        "df['Family_Size']=df['Parch'] + df['SibSp']                   #family size\n",
        "df['Alone']=0\n",
        "df.loc[df.Family_Size==0, 'Alone']=1                          #Alone\n"
      ],
      "metadata": {
        "id": "MwSTfPD5LiY1"
      },
      "execution_count": 269,
      "outputs": []
    },
    {
      "cell_type": "code",
      "source": [
        "#Fare\n",
        "df['Fare_Range']=pd.qcut(df['Fare'],4)\n",
        "\n",
        "df['Fare_cat']=0\n",
        "df.loc[df['Fare']<=7.91, 'Fare_cat']=0\n",
        "df.loc[(df['Fare']>7.91) & (df['Fare']<=14.454), 'Fare_cat']=1\n",
        "df.loc[(df['Fare']>14.454) & (df['Fare']<=31), 'Fare_cat']=2\n",
        "df.loc[(df['Fare']>31) & (df['Fare']<=513), 'Fare_cat']=3"
      ],
      "metadata": {
        "id": "sisrxvmONKQ_"
      },
      "execution_count": 270,
      "outputs": []
    },
    {
      "cell_type": "code",
      "source": [
        "#sex\n",
        "df['Sex'].replace(['male','female'],[0,1],inplace=True)"
      ],
      "metadata": {
        "id": "mIu7pZB4N7z2"
      },
      "execution_count": 271,
      "outputs": []
    },
    {
      "cell_type": "code",
      "source": [
        "#Embarked\n",
        "df['Embarked'].replace(['S','C','Q'],[0,1,2],inplace=True)"
      ],
      "metadata": {
        "id": "WAH9reHSOA3u"
      },
      "execution_count": 272,
      "outputs": []
    },
    {
      "cell_type": "code",
      "source": [
        "#Initial\n",
        "df['Initial'].replace(['Mr','Mrs','Miss','Master','Other'],[0,1,2,3,4],inplace=True)"
      ],
      "metadata": {
        "id": "itiztV0qOFpE"
      },
      "execution_count": 273,
      "outputs": []
    },
    {
      "cell_type": "code",
      "source": [
        "df.drop(['Name','Age','Ticket','Fare','Cabin','Fare_Range','PassengerId'],axis=1,inplace=True)"
      ],
      "metadata": {
        "id": "lMf9LVwzOUBx"
      },
      "execution_count": 274,
      "outputs": []
    },
    {
      "cell_type": "code",
      "source": [
        "df.head(2)"
      ],
      "metadata": {
        "colab": {
          "base_uri": "https://localhost:8080/",
          "height": 112
        },
        "id": "t3_dZ4S-NTIO",
        "outputId": "8d75a4ac-760a-494f-91a8-ed6d3c58efc6"
      },
      "execution_count": 275,
      "outputs": [
        {
          "output_type": "execute_result",
          "data": {
            "text/plain": [
              "   Survived  Pclass  Sex  SibSp  Parch  Embarked  Initial  Age_band  \\\n",
              "0         0       3    0      1      0         0        0         1   \n",
              "1         1       1    1      1      0         1        1         2   \n",
              "\n",
              "   Family_Size  Alone  Fare_cat  \n",
              "0            1      0         0  \n",
              "1            1      0         3  "
            ],
            "text/html": [
              "\n",
              "  <div id=\"df-db10a7bf-634c-4a78-8e99-62b7ee1bb608\">\n",
              "    <div class=\"colab-df-container\">\n",
              "      <div>\n",
              "<style scoped>\n",
              "    .dataframe tbody tr th:only-of-type {\n",
              "        vertical-align: middle;\n",
              "    }\n",
              "\n",
              "    .dataframe tbody tr th {\n",
              "        vertical-align: top;\n",
              "    }\n",
              "\n",
              "    .dataframe thead th {\n",
              "        text-align: right;\n",
              "    }\n",
              "</style>\n",
              "<table border=\"1\" class=\"dataframe\">\n",
              "  <thead>\n",
              "    <tr style=\"text-align: right;\">\n",
              "      <th></th>\n",
              "      <th>Survived</th>\n",
              "      <th>Pclass</th>\n",
              "      <th>Sex</th>\n",
              "      <th>SibSp</th>\n",
              "      <th>Parch</th>\n",
              "      <th>Embarked</th>\n",
              "      <th>Initial</th>\n",
              "      <th>Age_band</th>\n",
              "      <th>Family_Size</th>\n",
              "      <th>Alone</th>\n",
              "      <th>Fare_cat</th>\n",
              "    </tr>\n",
              "  </thead>\n",
              "  <tbody>\n",
              "    <tr>\n",
              "      <th>0</th>\n",
              "      <td>0</td>\n",
              "      <td>3</td>\n",
              "      <td>0</td>\n",
              "      <td>1</td>\n",
              "      <td>0</td>\n",
              "      <td>0</td>\n",
              "      <td>0</td>\n",
              "      <td>1</td>\n",
              "      <td>1</td>\n",
              "      <td>0</td>\n",
              "      <td>0</td>\n",
              "    </tr>\n",
              "    <tr>\n",
              "      <th>1</th>\n",
              "      <td>1</td>\n",
              "      <td>1</td>\n",
              "      <td>1</td>\n",
              "      <td>1</td>\n",
              "      <td>0</td>\n",
              "      <td>1</td>\n",
              "      <td>1</td>\n",
              "      <td>2</td>\n",
              "      <td>1</td>\n",
              "      <td>0</td>\n",
              "      <td>3</td>\n",
              "    </tr>\n",
              "  </tbody>\n",
              "</table>\n",
              "</div>\n",
              "      <button class=\"colab-df-convert\" onclick=\"convertToInteractive('df-db10a7bf-634c-4a78-8e99-62b7ee1bb608')\"\n",
              "              title=\"Convert this dataframe to an interactive table.\"\n",
              "              style=\"display:none;\">\n",
              "        \n",
              "  <svg xmlns=\"http://www.w3.org/2000/svg\" height=\"24px\"viewBox=\"0 0 24 24\"\n",
              "       width=\"24px\">\n",
              "    <path d=\"M0 0h24v24H0V0z\" fill=\"none\"/>\n",
              "    <path d=\"M18.56 5.44l.94 2.06.94-2.06 2.06-.94-2.06-.94-.94-2.06-.94 2.06-2.06.94zm-11 1L8.5 8.5l.94-2.06 2.06-.94-2.06-.94L8.5 2.5l-.94 2.06-2.06.94zm10 10l.94 2.06.94-2.06 2.06-.94-2.06-.94-.94-2.06-.94 2.06-2.06.94z\"/><path d=\"M17.41 7.96l-1.37-1.37c-.4-.4-.92-.59-1.43-.59-.52 0-1.04.2-1.43.59L10.3 9.45l-7.72 7.72c-.78.78-.78 2.05 0 2.83L4 21.41c.39.39.9.59 1.41.59.51 0 1.02-.2 1.41-.59l7.78-7.78 2.81-2.81c.8-.78.8-2.07 0-2.86zM5.41 20L4 18.59l7.72-7.72 1.47 1.35L5.41 20z\"/>\n",
              "  </svg>\n",
              "      </button>\n",
              "      \n",
              "  <style>\n",
              "    .colab-df-container {\n",
              "      display:flex;\n",
              "      flex-wrap:wrap;\n",
              "      gap: 12px;\n",
              "    }\n",
              "\n",
              "    .colab-df-convert {\n",
              "      background-color: #E8F0FE;\n",
              "      border: none;\n",
              "      border-radius: 50%;\n",
              "      cursor: pointer;\n",
              "      display: none;\n",
              "      fill: #1967D2;\n",
              "      height: 32px;\n",
              "      padding: 0 0 0 0;\n",
              "      width: 32px;\n",
              "    }\n",
              "\n",
              "    .colab-df-convert:hover {\n",
              "      background-color: #E2EBFA;\n",
              "      box-shadow: 0px 1px 2px rgba(60, 64, 67, 0.3), 0px 1px 3px 1px rgba(60, 64, 67, 0.15);\n",
              "      fill: #174EA6;\n",
              "    }\n",
              "\n",
              "    [theme=dark] .colab-df-convert {\n",
              "      background-color: #3B4455;\n",
              "      fill: #D2E3FC;\n",
              "    }\n",
              "\n",
              "    [theme=dark] .colab-df-convert:hover {\n",
              "      background-color: #434B5C;\n",
              "      box-shadow: 0px 1px 3px 1px rgba(0, 0, 0, 0.15);\n",
              "      filter: drop-shadow(0px 1px 2px rgba(0, 0, 0, 0.3));\n",
              "      fill: #FFFFFF;\n",
              "    }\n",
              "  </style>\n",
              "\n",
              "      <script>\n",
              "        const buttonEl =\n",
              "          document.querySelector('#df-db10a7bf-634c-4a78-8e99-62b7ee1bb608 button.colab-df-convert');\n",
              "        buttonEl.style.display =\n",
              "          google.colab.kernel.accessAllowed ? 'block' : 'none';\n",
              "\n",
              "        async function convertToInteractive(key) {\n",
              "          const element = document.querySelector('#df-db10a7bf-634c-4a78-8e99-62b7ee1bb608');\n",
              "          const dataTable =\n",
              "            await google.colab.kernel.invokeFunction('convertToInteractive',\n",
              "                                                     [key], {});\n",
              "          if (!dataTable) return;\n",
              "\n",
              "          const docLinkHtml = 'Like what you see? Visit the ' +\n",
              "            '<a target=\"_blank\" href=https://colab.research.google.com/notebooks/data_table.ipynb>data table notebook</a>'\n",
              "            + ' to learn more about interactive tables.';\n",
              "          element.innerHTML = '';\n",
              "          dataTable['output_type'] = 'display_data';\n",
              "          await google.colab.output.renderOutput(dataTable, element);\n",
              "          const docLink = document.createElement('div');\n",
              "          docLink.innerHTML = docLinkHtml;\n",
              "          element.appendChild(docLink);\n",
              "        }\n",
              "      </script>\n",
              "    </div>\n",
              "  </div>\n",
              "  "
            ]
          },
          "metadata": {},
          "execution_count": 275
        }
      ]
    },
    {
      "cell_type": "code",
      "source": [
        "df.info()"
      ],
      "metadata": {
        "colab": {
          "base_uri": "https://localhost:8080/"
        },
        "id": "jzEpQEPGOd-H",
        "outputId": "ab9e738a-5f10-4d9f-a60f-3655e6ff85e5"
      },
      "execution_count": 276,
      "outputs": [
        {
          "output_type": "stream",
          "name": "stdout",
          "text": [
            "<class 'pandas.core.frame.DataFrame'>\n",
            "RangeIndex: 891 entries, 0 to 890\n",
            "Data columns (total 11 columns):\n",
            " #   Column       Non-Null Count  Dtype\n",
            "---  ------       --------------  -----\n",
            " 0   Survived     891 non-null    int64\n",
            " 1   Pclass       891 non-null    int64\n",
            " 2   Sex          891 non-null    int64\n",
            " 3   SibSp        891 non-null    int64\n",
            " 4   Parch        891 non-null    int64\n",
            " 5   Embarked     891 non-null    int64\n",
            " 6   Initial      891 non-null    int64\n",
            " 7   Age_band     891 non-null    int64\n",
            " 8   Family_Size  891 non-null    int64\n",
            " 9   Alone        891 non-null    int64\n",
            " 10  Fare_cat     891 non-null    int64\n",
            "dtypes: int64(11)\n",
            "memory usage: 76.7 KB\n"
          ]
        }
      ]
    },
    {
      "cell_type": "code",
      "source": [
        "sns.heatmap(df.corr(),annot=True,cmap='RdYlGn',linewidths=0.2,annot_kws={'size':20})\n",
        "\n",
        "fig=plt.gcf()\n",
        "fig.set_size_inches(18,15)\n",
        "plt.xticks(fontsize=14)\n",
        "plt.yticks(fontsize=14)\n",
        "plt.show()"
      ],
      "metadata": {
        "colab": {
          "base_uri": "https://localhost:8080/",
          "height": 938
        },
        "id": "u5eXKtKtOpQY",
        "outputId": "f078b681-9227-464e-b616-ed4d89fd9632"
      },
      "execution_count": 277,
      "outputs": [
        {
          "output_type": "display_data",
          "data": {
            "text/plain": [
              "<Figure size 1296x1080 with 2 Axes>"
            ],
            "image/png": "[encoded data removed]"
          },
          "metadata": {
            "needs_background": "light"
          }
        }
      ]
    },
    {
      "cell_type": "markdown",
      "metadata": {
        "id": "W-Dolj9tf71l"
      },
      "source": [
        "# Step5: Train Test Split"
      ]
    },
    {
      "cell_type": "code",
      "source": [
        "X = df.drop('Survived',axis=1)\n",
        "y = df['Survived']"
      ],
      "metadata": {
        "id": "AaV3bUDPQ6VY"
      },
      "execution_count": 278,
      "outputs": []
    },
    {
      "cell_type": "code",
      "execution_count": 293,
      "metadata": {
        "execution": {
          "iopub.status.busy": "2022-07-26T06:10:16.884031Z",
          "iopub.status.idle": "2022-07-26T06:10:16.884340Z",
          "shell.execute_reply": "2022-07-26T06:10:16.884191Z",
          "shell.execute_reply.started": "2022-07-26T06:10:16.884176Z"
        },
        "id": "0glrf12wf71l"
      },
      "outputs": [],
      "source": [
        "train_X , test_X , train_y , test_y = train_test_split (X, y, test_size=0.3, random_state=101)"
      ]
    },
    {
      "cell_type": "markdown",
      "metadata": {
        "id": "HsQZUpadf71m"
      },
      "source": [
        "# Step6: Scaling Data"
      ]
    },
    {
      "cell_type": "code",
      "source": [
        "from sklearn.preprocessing import StandardScaler"
      ],
      "metadata": {
        "id": "BviqiAEzNoH3"
      },
      "execution_count": 282,
      "outputs": []
    },
    {
      "cell_type": "code",
      "execution_count": 280,
      "metadata": {
        "execution": {
          "iopub.status.busy": "2022-07-26T06:10:16.886599Z",
          "iopub.status.idle": "2022-07-26T06:10:16.886930Z",
          "shell.execute_reply": "2022-07-26T06:10:16.886759Z",
          "shell.execute_reply.started": "2022-07-26T06:10:16.886744Z"
        },
        "id": "8ufP4qWhf71m",
        "colab": {
          "base_uri": "https://localhost:8080/",
          "height": 300
        },
        "outputId": "75fd5a5d-23ec-4a53-83f9-6df2a26e7f29"
      },
      "outputs": [
        {
          "output_type": "execute_result",
          "data": {
            "text/plain": [
              "         Survived      Pclass         Sex       SibSp       Parch    Embarked  \\\n",
              "count  891.000000  891.000000  891.000000  891.000000  891.000000  891.000000   \n",
              "mean     0.383838    2.308642    0.352413    0.523008    0.381594    0.361392   \n",
              "std      0.486592    0.836071    0.477990    1.102743    0.806057    0.635673   \n",
              "min      0.000000    1.000000    0.000000    0.000000    0.000000    0.000000   \n",
              "25%      0.000000    2.000000    0.000000    0.000000    0.000000    0.000000   \n",
              "50%      0.000000    3.000000    0.000000    0.000000    0.000000    0.000000   \n",
              "75%      1.000000    3.000000    1.000000    1.000000    0.000000    1.000000   \n",
              "max      1.000000    3.000000    1.000000    8.000000    6.000000    2.000000   \n",
              "\n",
              "          Initial    Age_band  Family_Size       Alone    Fare_cat  \n",
              "count  891.000000  891.000000   891.000000  891.000000  891.000000  \n",
              "mean     0.735129    1.439955     0.904602    0.602694    1.505051  \n",
              "std      1.001959    0.842373     1.613459    0.489615    1.118148  \n",
              "min      0.000000    0.000000     0.000000    0.000000    0.000000  \n",
              "25%      0.000000    1.000000     0.000000    0.000000    0.500000  \n",
              "50%      0.000000    1.000000     0.000000    1.000000    2.000000  \n",
              "75%      2.000000    2.000000     1.000000    1.000000    2.000000  \n",
              "max      4.000000    4.000000    10.000000    1.000000    3.000000  "
            ],
            "text/html": [
              "\n",
              "  <div id=\"df-27f0fcf4-0321-42b8-93c4-cc399e5f8f69\">\n",
              "    <div class=\"colab-df-container\">\n",
              "      <div>\n",
              "<style scoped>\n",
              "    .dataframe tbody tr th:only-of-type {\n",
              "        vertical-align: middle;\n",
              "    }\n",
              "\n",
              "    .dataframe tbody tr th {\n",
              "        vertical-align: top;\n",
              "    }\n",
              "\n",
              "    .dataframe thead th {\n",
              "        text-align: right;\n",
              "    }\n",
              "</style>\n",
              "<table border=\"1\" class=\"dataframe\">\n",
              "  <thead>\n",
              "    <tr style=\"text-align: right;\">\n",
              "      <th></th>\n",
              "      <th>Survived</th>\n",
              "      <th>Pclass</th>\n",
              "      <th>Sex</th>\n",
              "      <th>SibSp</th>\n",
              "      <th>Parch</th>\n",
              "      <th>Embarked</th>\n",
              "      <th>Initial</th>\n",
              "      <th>Age_band</th>\n",
              "      <th>Family_Size</th>\n",
              "      <th>Alone</th>\n",
              "      <th>Fare_cat</th>\n",
              "    </tr>\n",
              "  </thead>\n",
              "  <tbody>\n",
              "    <tr>\n",
              "      <th>count</th>\n",
              "      <td>891.000000</td>\n",
              "      <td>891.000000</td>\n",
              "      <td>891.000000</td>\n",
              "      <td>891.000000</td>\n",
              "      <td>891.000000</td>\n",
              "      <td>891.000000</td>\n",
              "      <td>891.000000</td>\n",
              "      <td>891.000000</td>\n",
              "      <td>891.000000</td>\n",
              "      <td>891.000000</td>\n",
              "      <td>891.000000</td>\n",
              "    </tr>\n",
              "    <tr>\n",
              "      <th>mean</th>\n",
              "      <td>0.383838</td>\n",
              "      <td>2.308642</td>\n",
              "      <td>0.352413</td>\n",
              "      <td>0.523008</td>\n",
              "      <td>0.381594</td>\n",
              "      <td>0.361392</td>\n",
              "      <td>0.735129</td>\n",
              "      <td>1.439955</td>\n",
              "      <td>0.904602</td>\n",
              "      <td>0.602694</td>\n",
              "      <td>1.505051</td>\n",
              "    </tr>\n",
              "    <tr>\n",
              "      <th>std</th>\n",
              "      <td>0.486592</td>\n",
              "      <td>0.836071</td>\n",
              "      <td>0.477990</td>\n",
              "      <td>1.102743</td>\n",
              "      <td>0.806057</td>\n",
              "      <td>0.635673</td>\n",
              "      <td>1.001959</td>\n",
              "      <td>0.842373</td>\n",
              "      <td>1.613459</td>\n",
              "      <td>0.489615</td>\n",
              "      <td>1.118148</td>\n",
              "    </tr>\n",
              "    <tr>\n",
              "      <th>min</th>\n",
              "      <td>0.000000</td>\n",
              "      <td>1.000000</td>\n",
              "      <td>0.000000</td>\n",
              "      <td>0.000000</td>\n",
              "      <td>0.000000</td>\n",
              "      <td>0.000000</td>\n",
              "      <td>0.000000</td>\n",
              "      <td>0.000000</td>\n",
              "      <td>0.000000</td>\n",
              "      <td>0.000000</td>\n",
              "      <td>0.000000</td>\n",
              "    </tr>\n",
              "    <tr>\n",
              "      <th>25%</th>\n",
              "      <td>0.000000</td>\n",
              "      <td>2.000000</td>\n",
              "      <td>0.000000</td>\n",
              "      <td>0.000000</td>\n",
              "      <td>0.000000</td>\n",
              "      <td>0.000000</td>\n",
              "      <td>0.000000</td>\n",
              "      <td>1.000000</td>\n",
              "      <td>0.000000</td>\n",
              "      <td>0.000000</td>\n",
              "      <td>0.500000</td>\n",
              "    </tr>\n",
              "    <tr>\n",
              "      <th>50%</th>\n",
              "      <td>0.000000</td>\n",
              "      <td>3.000000</td>\n",
              "      <td>0.000000</td>\n",
              "      <td>0.000000</td>\n",
              "      <td>0.000000</td>\n",
              "      <td>0.000000</td>\n",
              "      <td>0.000000</td>\n",
              "      <td>1.000000</td>\n",
              "      <td>0.000000</td>\n",
              "      <td>1.000000</td>\n",
              "      <td>2.000000</td>\n",
              "    </tr>\n",
              "    <tr>\n",
              "      <th>75%</th>\n",
              "      <td>1.000000</td>\n",
              "      <td>3.000000</td>\n",
              "      <td>1.000000</td>\n",
              "      <td>1.000000</td>\n",
              "      <td>0.000000</td>\n",
              "      <td>1.000000</td>\n",
              "      <td>2.000000</td>\n",
              "      <td>2.000000</td>\n",
              "      <td>1.000000</td>\n",
              "      <td>1.000000</td>\n",
              "      <td>2.000000</td>\n",
              "    </tr>\n",
              "    <tr>\n",
              "      <th>max</th>\n",
              "      <td>1.000000</td>\n",
              "      <td>3.000000</td>\n",
              "      <td>1.000000</td>\n",
              "      <td>8.000000</td>\n",
              "      <td>6.000000</td>\n",
              "      <td>2.000000</td>\n",
              "      <td>4.000000</td>\n",
              "      <td>4.000000</td>\n",
              "      <td>10.000000</td>\n",
              "      <td>1.000000</td>\n",
              "      <td>3.000000</td>\n",
              "    </tr>\n",
              "  </tbody>\n",
              "</table>\n",
              "</div>\n",
              "      <button class=\"colab-df-convert\" onclick=\"convertToInteractive('df-27f0fcf4-0321-42b8-93c4-cc399e5f8f69')\"\n",
              "              title=\"Convert this dataframe to an interactive table.\"\n",
              "              style=\"display:none;\">\n",
              "        \n",
              "  <svg xmlns=\"http://www.w3.org/2000/svg\" height=\"24px\"viewBox=\"0 0 24 24\"\n",
              "       width=\"24px\">\n",
              "    <path d=\"M0 0h24v24H0V0z\" fill=\"none\"/>\n",
              "    <path d=\"M18.56 5.44l.94 2.06.94-2.06 2.06-.94-2.06-.94-.94-2.06-.94 2.06-2.06.94zm-11 1L8.5 8.5l.94-2.06 2.06-.94-2.06-.94L8.5 2.5l-.94 2.06-2.06.94zm10 10l.94 2.06.94-2.06 2.06-.94-2.06-.94-.94-2.06-.94 2.06-2.06.94z\"/><path d=\"M17.41 7.96l-1.37-1.37c-.4-.4-.92-.59-1.43-.59-.52 0-1.04.2-1.43.59L10.3 9.45l-7.72 7.72c-.78.78-.78 2.05 0 2.83L4 21.41c.39.39.9.59 1.41.59.51 0 1.02-.2 1.41-.59l7.78-7.78 2.81-2.81c.8-.78.8-2.07 0-2.86zM5.41 20L4 18.59l7.72-7.72 1.47 1.35L5.41 20z\"/>\n",
              "  </svg>\n",
              "      </button>\n",
              "      \n",
              "  <style>\n",
              "    .colab-df-container {\n",
              "      display:flex;\n",
              "      flex-wrap:wrap;\n",
              "      gap: 12px;\n",
              "    }\n",
              "\n",
              "    .colab-df-convert {\n",
              "      background-color: #E8F0FE;\n",
              "      border: none;\n",
              "      border-radius: 50%;\n",
              "      cursor: pointer;\n",
              "      display: none;\n",
              "      fill: #1967D2;\n",
              "      height: 32px;\n",
              "      padding: 0 0 0 0;\n",
              "      width: 32px;\n",
              "    }\n",
              "\n",
              "    .colab-df-convert:hover {\n",
              "      background-color: #E2EBFA;\n",
              "      box-shadow: 0px 1px 2px rgba(60, 64, 67, 0.3), 0px 1px 3px 1px rgba(60, 64, 67, 0.15);\n",
              "      fill: #174EA6;\n",
              "    }\n",
              "\n",
              "    [theme=dark] .colab-df-convert {\n",
              "      background-color: #3B4455;\n",
              "      fill: #D2E3FC;\n",
              "    }\n",
              "\n",
              "    [theme=dark] .colab-df-convert:hover {\n",
              "      background-color: #434B5C;\n",
              "      box-shadow: 0px 1px 3px 1px rgba(0, 0, 0, 0.15);\n",
              "      filter: drop-shadow(0px 1px 2px rgba(0, 0, 0, 0.3));\n",
              "      fill: #FFFFFF;\n",
              "    }\n",
              "  </style>\n",
              "\n",
              "      <script>\n",
              "        const buttonEl =\n",
              "          document.querySelector('#df-27f0fcf4-0321-42b8-93c4-cc399e5f8f69 button.colab-df-convert');\n",
              "        buttonEl.style.display =\n",
              "          google.colab.kernel.accessAllowed ? 'block' : 'none';\n",
              "\n",
              "        async function convertToInteractive(key) {\n",
              "          const element = document.querySelector('#df-27f0fcf4-0321-42b8-93c4-cc399e5f8f69');\n",
              "          const dataTable =\n",
              "            await google.colab.kernel.invokeFunction('convertToInteractive',\n",
              "                                                     [key], {});\n",
              "          if (!dataTable) return;\n",
              "\n",
              "          const docLinkHtml = 'Like what you see? Visit the ' +\n",
              "            '<a target=\"_blank\" href=https://colab.research.google.com/notebooks/data_table.ipynb>data table notebook</a>'\n",
              "            + ' to learn more about interactive tables.';\n",
              "          element.innerHTML = '';\n",
              "          dataTable['output_type'] = 'display_data';\n",
              "          await google.colab.output.renderOutput(dataTable, element);\n",
              "          const docLink = document.createElement('div');\n",
              "          docLink.innerHTML = docLinkHtml;\n",
              "          element.appendChild(docLink);\n",
              "        }\n",
              "      </script>\n",
              "    </div>\n",
              "  </div>\n",
              "  "
            ]
          },
          "metadata": {},
          "execution_count": 280
        }
      ],
      "source": [
        "df.describe()"
      ]
    },
    {
      "cell_type": "code",
      "source": [
        "scaler = StandardScaler()\n",
        "scaler.fit(train_X)"
      ],
      "metadata": {
        "colab": {
          "base_uri": "https://localhost:8080/"
        },
        "id": "_85lVNT2NdX8",
        "outputId": "2de0b4ce-0e75-4a58-b1f8-5156adf99ed1"
      },
      "execution_count": 285,
      "outputs": [
        {
          "output_type": "execute_result",
          "data": {
            "text/plain": [
              "StandardScaler()"
            ]
          },
          "metadata": {},
          "execution_count": 285
        }
      ]
    },
    {
      "cell_type": "code",
      "source": [
        "X_train = scaler.transform(train_X)   #scaled X train\n",
        "\n",
        "X_test = scaler.transform(test_X)     #scaled X test"
      ],
      "metadata": {
        "id": "ix911CVYOCCx"
      },
      "execution_count": 294,
      "outputs": []
    },
    {
      "cell_type": "markdown",
      "metadata": {
        "id": "84KR3abwf71m"
      },
      "source": [
        "# PART 01"
      ]
    },
    {
      "cell_type": "code",
      "source": [
        "from sklearn.linear_model import LogisticRegression #logistic regression\n",
        "from sklearn import svm #support vector Machine\n",
        "from sklearn.neighbors import KNeighborsClassifier #KNN"
      ],
      "metadata": {
        "id": "A2Oup3IgSOFY"
      },
      "execution_count": 291,
      "outputs": []
    },
    {
      "cell_type": "code",
      "source": [
        "from sklearn.metrics import classification_report, confusion_matrix, accuracy_score"
      ],
      "metadata": {
        "id": "cfw9MFMTS9B4"
      },
      "execution_count": 292,
      "outputs": []
    },
    {
      "cell_type": "markdown",
      "metadata": {
        "id": "LH9I8xyWf71n"
      },
      "source": [
        "# Step7: Build the model ---> Logistic Regression"
      ]
    },
    {
      "cell_type": "code",
      "execution_count": 295,
      "metadata": {
        "execution": {
          "iopub.status.busy": "2022-07-26T06:10:16.887792Z",
          "iopub.status.idle": "2022-07-26T06:10:16.888133Z",
          "shell.execute_reply": "2022-07-26T06:10:16.887988Z",
          "shell.execute_reply.started": "2022-07-26T06:10:16.887971Z"
        },
        "id": "1PdEpaw1f71n",
        "colab": {
          "base_uri": "https://localhost:8080/"
        },
        "outputId": "b807dd33-3031-420c-a0b3-494474ff4414"
      },
      "outputs": [
        {
          "output_type": "execute_result",
          "data": {
            "text/plain": [
              "LogisticRegression()"
            ]
          },
          "metadata": {},
          "execution_count": 295
        }
      ],
      "source": [
        "model_LR = LogisticRegression()\n",
        "model_LR.fit(X_train, train_y)\n"
      ]
    },
    {
      "cell_type": "markdown",
      "metadata": {
        "id": "EmMOrv1Nf71n"
      },
      "source": [
        "# Step8: Predict"
      ]
    },
    {
      "cell_type": "code",
      "execution_count": 296,
      "metadata": {
        "execution": {
          "iopub.status.busy": "2022-07-26T06:10:16.889242Z",
          "iopub.status.idle": "2022-07-26T06:10:16.889543Z",
          "shell.execute_reply": "2022-07-26T06:10:16.889401Z",
          "shell.execute_reply.started": "2022-07-26T06:10:16.889385Z"
        },
        "id": "8-ZHqKCqf71n"
      },
      "outputs": [],
      "source": [
        "pred_y = model_LR.predict(X_test)\n"
      ]
    },
    {
      "cell_type": "markdown",
      "metadata": {
        "id": "PDhrnnaWf71n"
      },
      "source": [
        "# Step9: Evaluate model"
      ]
    },
    {
      "cell_type": "markdown",
      "metadata": {
        "id": "CSo5AfiEf71o"
      },
      "source": [
        "## 🟣 Confusion Matrix"
      ]
    },
    {
      "cell_type": "code",
      "execution_count": 297,
      "metadata": {
        "execution": {
          "iopub.status.busy": "2022-07-26T06:10:16.890479Z",
          "iopub.status.idle": "2022-07-26T06:10:16.890775Z",
          "shell.execute_reply": "2022-07-26T06:10:16.890634Z",
          "shell.execute_reply.started": "2022-07-26T06:10:16.890619Z"
        },
        "id": "MtbL8aR0f71o",
        "colab": {
          "base_uri": "https://localhost:8080/"
        },
        "outputId": "54252a7b-0e06-4d37-961b-2ef5f49ad571"
      },
      "outputs": [
        {
          "output_type": "execute_result",
          "data": {
            "text/plain": [
              "array([[131,  23],\n",
              "       [ 35,  79]])"
            ]
          },
          "metadata": {},
          "execution_count": 297
        }
      ],
      "source": [
        "cm = confusion_matrix(test_y, pred_y)\n",
        "cm"
      ]
    },
    {
      "cell_type": "markdown",
      "metadata": {
        "id": "aP7IETORf71o"
      },
      "source": [
        "### Classification Report"
      ]
    },
    {
      "cell_type": "code",
      "execution_count": 298,
      "metadata": {
        "id": "B5ATb_Azf71o",
        "colab": {
          "base_uri": "https://localhost:8080/"
        },
        "outputId": "9b90c296-7362-4351-fe49-f8a0f2f08276"
      },
      "outputs": [
        {
          "output_type": "stream",
          "name": "stdout",
          "text": [
            "              precision    recall  f1-score   support\n",
            "\n",
            "        Gone       0.79      0.85      0.82       154\n",
            "    Survived       0.77      0.69      0.73       114\n",
            "\n",
            "    accuracy                           0.78       268\n",
            "   macro avg       0.78      0.77      0.78       268\n",
            "weighted avg       0.78      0.78      0.78       268\n",
            "\n"
          ]
        }
      ],
      "source": [
        "target_names = ['Gone', 'Survived']\n",
        "cr = classification_report(test_y, pred_y, target_names = target_names)\n",
        "print(cr)"
      ]
    },
    {
      "cell_type": "markdown",
      "metadata": {
        "id": "mMDaKD4Rf71o"
      },
      "source": [
        "### Plot Confusion Matrix"
      ]
    },
    {
      "cell_type": "code",
      "source": [
        "from sklearn.metrics import plot_confusion_matrix\n",
        "import matplotlib.pyplot as plt"
      ],
      "metadata": {
        "id": "pNTGvBM_VSzV"
      },
      "execution_count": 301,
      "outputs": []
    },
    {
      "cell_type": "code",
      "execution_count": 302,
      "metadata": {
        "execution": {
          "iopub.status.busy": "2022-07-26T06:10:16.892102Z",
          "iopub.status.idle": "2022-07-26T06:10:16.892444Z",
          "shell.execute_reply": "2022-07-26T06:10:16.892295Z",
          "shell.execute_reply.started": "2022-07-26T06:10:16.892279Z"
        },
        "id": "MoD8O0MIf71p",
        "colab": {
          "base_uri": "https://localhost:8080/",
          "height": 334
        },
        "outputId": "9f5ecf3d-6560-468c-8703-5628838a1f55"
      },
      "outputs": [
        {
          "output_type": "stream",
          "name": "stderr",
          "text": [
            "/usr/local/lib/python3.7/dist-packages/sklearn/utils/deprecation.py:87: FutureWarning: Function plot_confusion_matrix is deprecated; Function `plot_confusion_matrix` is deprecated in 1.0 and will be removed in 1.2. Use one of the class methods: ConfusionMatrixDisplay.from_predictions or ConfusionMatrixDisplay.from_estimator.\n",
            "  warnings.warn(msg, category=FutureWarning)\n"
          ]
        },
        {
          "output_type": "display_data",
          "data": {
            "text/plain": [
              "<Figure size 432x288 with 2 Axes>"
            ],
            "image/png": "[encoded data removed]"
          },
          "metadata": {
            "needs_background": "light"
          }
        }
      ],
      "source": [
        "plot_confusion_matrix(model_LR, X_test, test_y)  \n",
        "plt.show()"
      ]
    },
    {
      "cell_type": "markdown",
      "metadata": {
        "id": "Ol2t2wotf71p"
      },
      "source": [
        "## 🟣 Accuracy Score"
      ]
    },
    {
      "cell_type": "code",
      "execution_count": 303,
      "metadata": {
        "execution": {
          "iopub.status.busy": "2022-07-26T06:10:16.893546Z",
          "iopub.status.idle": "2022-07-26T06:10:16.894059Z",
          "shell.execute_reply": "2022-07-26T06:10:16.893765Z",
          "shell.execute_reply.started": "2022-07-26T06:10:16.893747Z"
        },
        "id": "dKZ7nJMUf71p",
        "colab": {
          "base_uri": "https://localhost:8080/"
        },
        "outputId": "fa6cd783-f348-4f46-9a9e-3712b5b287fc"
      },
      "outputs": [
        {
          "output_type": "execute_result",
          "data": {
            "text/plain": [
              "0.7835820895522388"
            ]
          },
          "metadata": {},
          "execution_count": 303
        }
      ],
      "source": [
        "acc = accuracy_score(pred_y , test_y)\n",
        "acc"
      ]
    },
    {
      "cell_type": "markdown",
      "metadata": {
        "id": "3AtA3dI1f71p"
      },
      "source": [
        "## 🟣 Precision Score"
      ]
    },
    {
      "cell_type": "code",
      "execution_count": 304,
      "metadata": {
        "execution": {
          "iopub.status.busy": "2022-07-26T06:10:16.895141Z",
          "iopub.status.idle": "2022-07-26T06:10:16.895473Z",
          "shell.execute_reply": "2022-07-26T06:10:16.895323Z",
          "shell.execute_reply.started": "2022-07-26T06:10:16.895306Z"
        },
        "id": "JQc5lN_Jf71q"
      },
      "outputs": [],
      "source": [
        "from sklearn.metrics import precision_score, recall_score , f1_score\n"
      ]
    },
    {
      "cell_type": "code",
      "source": [
        "p_score= precision_score(test_y, pred_y)\n",
        "p_score\n"
      ],
      "metadata": {
        "colab": {
          "base_uri": "https://localhost:8080/"
        },
        "id": "n6QS65RQWA39",
        "outputId": "1bca82cc-d18d-498f-bbb6-7bb8e811d767"
      },
      "execution_count": 305,
      "outputs": [
        {
          "output_type": "execute_result",
          "data": {
            "text/plain": [
              "0.7745098039215687"
            ]
          },
          "metadata": {},
          "execution_count": 305
        }
      ]
    },
    {
      "cell_type": "markdown",
      "metadata": {
        "id": "OtiYi5LIf71q"
      },
      "source": [
        "## 🟣 Recall score"
      ]
    },
    {
      "cell_type": "code",
      "execution_count": 306,
      "metadata": {
        "execution": {
          "iopub.status.busy": "2022-07-26T06:10:16.896645Z",
          "iopub.status.idle": "2022-07-26T06:10:16.897010Z",
          "shell.execute_reply": "2022-07-26T06:10:16.896825Z",
          "shell.execute_reply.started": "2022-07-26T06:10:16.896810Z"
        },
        "id": "OFth6tN-f71q",
        "colab": {
          "base_uri": "https://localhost:8080/"
        },
        "outputId": "8fab04dc-de60-4d68-b2a6-02b7000539ae"
      },
      "outputs": [
        {
          "output_type": "execute_result",
          "data": {
            "text/plain": [
              "0.6929824561403509"
            ]
          },
          "metadata": {},
          "execution_count": 306
        }
      ],
      "source": [
        "r_score= recall_score(test_y, pred_y)\n",
        "r_score\n"
      ]
    },
    {
      "cell_type": "markdown",
      "metadata": {
        "id": "853t7TQPf71q"
      },
      "source": [
        "## 🟣 F1-score"
      ]
    },
    {
      "cell_type": "code",
      "execution_count": 307,
      "metadata": {
        "id": "goHMa4zNf71q",
        "colab": {
          "base_uri": "https://localhost:8080/"
        },
        "outputId": "e53ae5ba-e892-48bd-af3b-3cb31bb684c2"
      },
      "outputs": [
        {
          "output_type": "execute_result",
          "data": {
            "text/plain": [
              "0.7314814814814816"
            ]
          },
          "metadata": {},
          "execution_count": 307
        }
      ],
      "source": [
        "f_score = f1_score(test_y, pred_y)\n",
        "f_score"
      ]
    },
    {
      "cell_type": "markdown",
      "metadata": {
        "id": "Wa9DTxXsf71r"
      },
      "source": [
        "## 🟣 Curves & AUC"
      ]
    },
    {
      "cell_type": "code",
      "source": [
        "from sklearn.metrics import plot_precision_recall_curve , plot_roc_curve , auc"
      ],
      "metadata": {
        "id": "esXTSH0ab12c"
      },
      "execution_count": 309,
      "outputs": []
    },
    {
      "cell_type": "markdown",
      "metadata": {
        "id": "7UTpRXTlf71r"
      },
      "source": [
        "### Plot Precision Recall Curve"
      ]
    },
    {
      "cell_type": "code",
      "execution_count": 310,
      "metadata": {
        "execution": {
          "iopub.status.busy": "2022-07-26T06:10:16.900820Z",
          "iopub.status.idle": "2022-07-26T06:10:16.901270Z",
          "shell.execute_reply": "2022-07-26T06:10:16.901091Z",
          "shell.execute_reply.started": "2022-07-26T06:10:16.901065Z"
        },
        "id": "CA7Sy3F7f71r",
        "colab": {
          "base_uri": "https://localhost:8080/",
          "height": 351
        },
        "outputId": "ece5b09c-122c-432f-9da8-ddcb082e989c"
      },
      "outputs": [
        {
          "output_type": "stream",
          "name": "stderr",
          "text": [
            "/usr/local/lib/python3.7/dist-packages/sklearn/utils/deprecation.py:87: FutureWarning: Function plot_precision_recall_curve is deprecated; Function `plot_precision_recall_curve` is deprecated in 1.0 and will be removed in 1.2. Use one of the class methods: PrecisionRecallDisplay.from_predictions or PrecisionRecallDisplay.from_estimator.\n",
            "  warnings.warn(msg, category=FutureWarning)\n"
          ]
        },
        {
          "output_type": "execute_result",
          "data": {
            "text/plain": [
              "<sklearn.metrics._plot.precision_recall_curve.PrecisionRecallDisplay at 0x7efc4049c850>"
            ]
          },
          "metadata": {},
          "execution_count": 310
        },
        {
          "output_type": "display_data",
          "data": {
            "text/plain": [
              "<Figure size 432x288 with 1 Axes>"
            ],
            "image/png": "[encoded data removed]"
          },
          "metadata": {
            "needs_background": "light"
          }
        }
      ],
      "source": [
        "plot_precision_recall_curve(model_LR, X_test, test_y)"
      ]
    },
    {
      "cell_type": "markdown",
      "metadata": {
        "id": "fVyQycn7f71r"
      },
      "source": [
        "### Plot Roc Curve"
      ]
    },
    {
      "cell_type": "code",
      "execution_count": 311,
      "metadata": {
        "execution": {
          "iopub.status.busy": "2022-07-26T06:10:16.902356Z",
          "iopub.status.idle": "2022-07-26T06:10:16.902706Z",
          "shell.execute_reply": "2022-07-26T06:10:16.902550Z",
          "shell.execute_reply.started": "2022-07-26T06:10:16.902527Z"
        },
        "id": "X5UqfvBNf71r",
        "colab": {
          "base_uri": "https://localhost:8080/",
          "height": 351
        },
        "outputId": "f9c81670-30d9-4c09-a7e0-0df3902d2cbc"
      },
      "outputs": [
        {
          "output_type": "stream",
          "name": "stderr",
          "text": [
            "/usr/local/lib/python3.7/dist-packages/sklearn/utils/deprecation.py:87: FutureWarning: Function plot_roc_curve is deprecated; Function :func:`plot_roc_curve` is deprecated in 1.0 and will be removed in 1.2. Use one of the class methods: :meth:`sklearn.metric.RocCurveDisplay.from_predictions` or :meth:`sklearn.metric.RocCurveDisplay.from_estimator`.\n",
            "  warnings.warn(msg, category=FutureWarning)\n"
          ]
        },
        {
          "output_type": "execute_result",
          "data": {
            "text/plain": [
              "<sklearn.metrics._plot.roc_curve.RocCurveDisplay at 0x7efc3fbf20d0>"
            ]
          },
          "metadata": {},
          "execution_count": 311
        },
        {
          "output_type": "display_data",
          "data": {
            "text/plain": [
              "<Figure size 432x288 with 1 Axes>"
            ],
            "image/png": "[encoded data removed]"
          },
          "metadata": {
            "needs_background": "light"
          }
        }
      ],
      "source": [
        "plot_roc_curve(model_LR, X_test, test_y)"
      ]
    },
    {
      "cell_type": "markdown",
      "metadata": {
        "id": "4FFhrK3Ff71s"
      },
      "source": [
        "# Step10: Create DataFrame From Accuracy & Precision & Recall & F1-score"
      ]
    },
    {
      "cell_type": "code",
      "execution_count": 385,
      "metadata": {
        "execution": {
          "iopub.status.busy": "2022-07-26T06:10:16.904284Z",
          "iopub.status.idle": "2022-07-26T06:10:16.904611Z",
          "shell.execute_reply": "2022-07-26T06:10:16.904462Z",
          "shell.execute_reply.started": "2022-07-26T06:10:16.904446Z"
        },
        "id": "cZdmlnEwf71s",
        "colab": {
          "base_uri": "https://localhost:8080/",
          "height": 175
        },
        "outputId": "e0766c18-922a-4cd8-a67f-c11183024198"
      },
      "outputs": [
        {
          "output_type": "execute_result",
          "data": {
            "text/plain": [
              "             precent\n",
              "Accuracy   78.358209\n",
              "Precision  77.450980\n",
              "Recall     69.298246\n",
              "F1-score   73.148148"
            ],
            "text/html": [
              "\n",
              "  <div id=\"df-fd284f53-48dc-499f-af46-60e37dfed028\">\n",
              "    <div class=\"colab-df-container\">\n",
              "      <div>\n",
              "<style scoped>\n",
              "    .dataframe tbody tr th:only-of-type {\n",
              "        vertical-align: middle;\n",
              "    }\n",
              "\n",
              "    .dataframe tbody tr th {\n",
              "        vertical-align: top;\n",
              "    }\n",
              "\n",
              "    .dataframe thead th {\n",
              "        text-align: right;\n",
              "    }\n",
              "</style>\n",
              "<table border=\"1\" class=\"dataframe\">\n",
              "  <thead>\n",
              "    <tr style=\"text-align: right;\">\n",
              "      <th></th>\n",
              "      <th>precent</th>\n",
              "    </tr>\n",
              "  </thead>\n",
              "  <tbody>\n",
              "    <tr>\n",
              "      <th>Accuracy</th>\n",
              "      <td>78.358209</td>\n",
              "    </tr>\n",
              "    <tr>\n",
              "      <th>Precision</th>\n",
              "      <td>77.450980</td>\n",
              "    </tr>\n",
              "    <tr>\n",
              "      <th>Recall</th>\n",
              "      <td>69.298246</td>\n",
              "    </tr>\n",
              "    <tr>\n",
              "      <th>F1-score</th>\n",
              "      <td>73.148148</td>\n",
              "    </tr>\n",
              "  </tbody>\n",
              "</table>\n",
              "</div>\n",
              "      <button class=\"colab-df-convert\" onclick=\"convertToInteractive('df-fd284f53-48dc-499f-af46-60e37dfed028')\"\n",
              "              title=\"Convert this dataframe to an interactive table.\"\n",
              "              style=\"display:none;\">\n",
              "        \n",
              "  <svg xmlns=\"http://www.w3.org/2000/svg\" height=\"24px\"viewBox=\"0 0 24 24\"\n",
              "       width=\"24px\">\n",
              "    <path d=\"M0 0h24v24H0V0z\" fill=\"none\"/>\n",
              "    <path d=\"M18.56 5.44l.94 2.06.94-2.06 2.06-.94-2.06-.94-.94-2.06-.94 2.06-2.06.94zm-11 1L8.5 8.5l.94-2.06 2.06-.94-2.06-.94L8.5 2.5l-.94 2.06-2.06.94zm10 10l.94 2.06.94-2.06 2.06-.94-2.06-.94-.94-2.06-.94 2.06-2.06.94z\"/><path d=\"M17.41 7.96l-1.37-1.37c-.4-.4-.92-.59-1.43-.59-.52 0-1.04.2-1.43.59L10.3 9.45l-7.72 7.72c-.78.78-.78 2.05 0 2.83L4 21.41c.39.39.9.59 1.41.59.51 0 1.02-.2 1.41-.59l7.78-7.78 2.81-2.81c.8-.78.8-2.07 0-2.86zM5.41 20L4 18.59l7.72-7.72 1.47 1.35L5.41 20z\"/>\n",
              "  </svg>\n",
              "      </button>\n",
              "      \n",
              "  <style>\n",
              "    .colab-df-container {\n",
              "      display:flex;\n",
              "      flex-wrap:wrap;\n",
              "      gap: 12px;\n",
              "    }\n",
              "\n",
              "    .colab-df-convert {\n",
              "      background-color: #E8F0FE;\n",
              "      border: none;\n",
              "      border-radius: 50%;\n",
              "      cursor: pointer;\n",
              "      display: none;\n",
              "      fill: #1967D2;\n",
              "      height: 32px;\n",
              "      padding: 0 0 0 0;\n",
              "      width: 32px;\n",
              "    }\n",
              "\n",
              "    .colab-df-convert:hover {\n",
              "      background-color: #E2EBFA;\n",
              "      box-shadow: 0px 1px 2px rgba(60, 64, 67, 0.3), 0px 1px 3px 1px rgba(60, 64, 67, 0.15);\n",
              "      fill: #174EA6;\n",
              "    }\n",
              "\n",
              "    [theme=dark] .colab-df-convert {\n",
              "      background-color: #3B4455;\n",
              "      fill: #D2E3FC;\n",
              "    }\n",
              "\n",
              "    [theme=dark] .colab-df-convert:hover {\n",
              "      background-color: #434B5C;\n",
              "      box-shadow: 0px 1px 3px 1px rgba(0, 0, 0, 0.15);\n",
              "      filter: drop-shadow(0px 1px 2px rgba(0, 0, 0, 0.3));\n",
              "      fill: #FFFFFF;\n",
              "    }\n",
              "  </style>\n",
              "\n",
              "      <script>\n",
              "        const buttonEl =\n",
              "          document.querySelector('#df-fd284f53-48dc-499f-af46-60e37dfed028 button.colab-df-convert');\n",
              "        buttonEl.style.display =\n",
              "          google.colab.kernel.accessAllowed ? 'block' : 'none';\n",
              "\n",
              "        async function convertToInteractive(key) {\n",
              "          const element = document.querySelector('#df-fd284f53-48dc-499f-af46-60e37dfed028');\n",
              "          const dataTable =\n",
              "            await google.colab.kernel.invokeFunction('convertToInteractive',\n",
              "                                                     [key], {});\n",
              "          if (!dataTable) return;\n",
              "\n",
              "          const docLinkHtml = 'Like what you see? Visit the ' +\n",
              "            '<a target=\"_blank\" href=https://colab.research.google.com/notebooks/data_table.ipynb>data table notebook</a>'\n",
              "            + ' to learn more about interactive tables.';\n",
              "          element.innerHTML = '';\n",
              "          dataTable['output_type'] = 'display_data';\n",
              "          await google.colab.output.renderOutput(dataTable, element);\n",
              "          const docLink = document.createElement('div');\n",
              "          docLink.innerHTML = docLinkHtml;\n",
              "          element.appendChild(docLink);\n",
              "        }\n",
              "      </script>\n",
              "    </div>\n",
              "  </div>\n",
              "  "
            ]
          },
          "metadata": {},
          "execution_count": 385
        }
      ],
      "source": [
        "eval_LR = pd.DataFrame([acc*100, p_score*100, r_score*100, f_score*100],['Accuracy' , 'Precision' , 'Recall' , 'F1-score'],['precent'])\n",
        "eval_LR"
      ]
    },
    {
      "cell_type": "markdown",
      "metadata": {
        "id": "DCY2fdbJf71s"
      },
      "source": [
        "# PART 02"
      ]
    },
    {
      "cell_type": "markdown",
      "metadata": {
        "id": "_9Xp97vTf71s"
      },
      "source": [
        "# Step11: Build the model ---> KNN"
      ]
    },
    {
      "cell_type": "code",
      "execution_count": 314,
      "metadata": {
        "execution": {
          "iopub.status.busy": "2022-07-26T06:10:16.907402Z",
          "iopub.status.idle": "2022-07-26T06:10:16.907735Z",
          "shell.execute_reply": "2022-07-26T06:10:16.907578Z",
          "shell.execute_reply.started": "2022-07-26T06:10:16.907555Z"
        },
        "id": "ZEAQlx52f71s",
        "colab": {
          "base_uri": "https://localhost:8080/"
        },
        "outputId": "99294666-03d1-48fc-c0b4-9b918849f134"
      },
      "outputs": [
        {
          "output_type": "execute_result",
          "data": {
            "text/plain": [
              "KNeighborsClassifier()"
            ]
          },
          "metadata": {},
          "execution_count": 314
        }
      ],
      "source": [
        "model_KNN = KNeighborsClassifier() \n",
        "model_KNN.fit(X_train, train_y)\n"
      ]
    },
    {
      "cell_type": "markdown",
      "metadata": {
        "id": "WWziAvF-f71s"
      },
      "source": [
        "# Step12: Predict"
      ]
    },
    {
      "cell_type": "code",
      "execution_count": 315,
      "metadata": {
        "execution": {
          "iopub.status.busy": "2022-07-26T06:10:16.909232Z",
          "iopub.status.idle": "2022-07-26T06:10:16.909544Z",
          "shell.execute_reply": "2022-07-26T06:10:16.909398Z",
          "shell.execute_reply.started": "2022-07-26T06:10:16.909382Z"
        },
        "id": "np5MW8khf71t",
        "colab": {
          "base_uri": "https://localhost:8080/"
        },
        "outputId": "c4d410c7-55af-4f2e-95f8-58757d5d3c47"
      },
      "outputs": [
        {
          "output_type": "stream",
          "name": "stderr",
          "text": [
            "/usr/local/lib/python3.7/dist-packages/sklearn/base.py:451: UserWarning: X does not have valid feature names, but LogisticRegression was fitted with feature names\n",
            "  \"X does not have valid feature names, but\"\n"
          ]
        }
      ],
      "source": [
        "pred_y_KNN = model.predict(X_test)"
      ]
    },
    {
      "cell_type": "markdown",
      "metadata": {
        "id": "I5ZIJK0ef71t"
      },
      "source": [
        "# Step13: Evaluate model"
      ]
    },
    {
      "cell_type": "markdown",
      "metadata": {
        "id": "217ymeFtf71t"
      },
      "source": [
        "## 🟣 Confusion Matrix"
      ]
    },
    {
      "cell_type": "code",
      "execution_count": 316,
      "metadata": {
        "execution": {
          "iopub.status.busy": "2022-07-26T06:10:16.914935Z",
          "iopub.status.idle": "2022-07-26T06:10:16.915271Z",
          "shell.execute_reply": "2022-07-26T06:10:16.915121Z",
          "shell.execute_reply.started": "2022-07-26T06:10:16.915103Z"
        },
        "id": "28Al-GtKf71t",
        "colab": {
          "base_uri": "https://localhost:8080/"
        },
        "outputId": "406c5641-b658-4434-94c1-77ba16fcb75d"
      },
      "outputs": [
        {
          "output_type": "execute_result",
          "data": {
            "text/plain": [
              "array([[109,  45],\n",
              "       [ 22,  92]])"
            ]
          },
          "metadata": {},
          "execution_count": 316
        }
      ],
      "source": [
        "cm = confusion_matrix(test_y, pred_y_KNN)\n",
        "cm"
      ]
    },
    {
      "cell_type": "markdown",
      "metadata": {
        "id": "XWB9egXYf71t"
      },
      "source": [
        "### Classification Report"
      ]
    },
    {
      "cell_type": "code",
      "execution_count": 317,
      "metadata": {
        "execution": {
          "iopub.status.busy": "2022-07-26T06:10:16.916443Z",
          "iopub.status.idle": "2022-07-26T06:10:16.916771Z",
          "shell.execute_reply": "2022-07-26T06:10:16.916616Z",
          "shell.execute_reply.started": "2022-07-26T06:10:16.916600Z"
        },
        "id": "VlrWQV5Kf71t",
        "colab": {
          "base_uri": "https://localhost:8080/"
        },
        "outputId": "551f451e-b899-4ae2-8e5c-8edcc37ef687"
      },
      "outputs": [
        {
          "output_type": "stream",
          "name": "stdout",
          "text": [
            "              precision    recall  f1-score   support\n",
            "\n",
            "        Gone       0.83      0.71      0.76       154\n",
            "    Survived       0.67      0.81      0.73       114\n",
            "\n",
            "    accuracy                           0.75       268\n",
            "   macro avg       0.75      0.76      0.75       268\n",
            "weighted avg       0.76      0.75      0.75       268\n",
            "\n"
          ]
        }
      ],
      "source": [
        "target_names = ['Gone', 'Survived']\n",
        "cr = classification_report(test_y, pred_y_KNN, target_names = target_names )\n",
        "print(cr)"
      ]
    },
    {
      "cell_type": "markdown",
      "metadata": {
        "id": "4GJoDZjlf71u"
      },
      "source": [
        "### Plot Confusion Matrix"
      ]
    },
    {
      "cell_type": "code",
      "execution_count": 318,
      "metadata": {
        "id": "GEPcD_Zzf71u",
        "colab": {
          "base_uri": "https://localhost:8080/",
          "height": 334
        },
        "outputId": "1350b38e-45ab-426f-ecc3-728474626164"
      },
      "outputs": [
        {
          "output_type": "stream",
          "name": "stderr",
          "text": [
            "/usr/local/lib/python3.7/dist-packages/sklearn/utils/deprecation.py:87: FutureWarning: Function plot_confusion_matrix is deprecated; Function `plot_confusion_matrix` is deprecated in 1.0 and will be removed in 1.2. Use one of the class methods: ConfusionMatrixDisplay.from_predictions or ConfusionMatrixDisplay.from_estimator.\n",
            "  warnings.warn(msg, category=FutureWarning)\n"
          ]
        },
        {
          "output_type": "display_data",
          "data": {
            "text/plain": [
              "<Figure size 432x288 with 2 Axes>"
            ],
            "image/png": "[encoded data removed]"
          },
          "metadata": {
            "needs_background": "light"
          }
        }
      ],
      "source": [
        "plot_confusion_matrix(model_KNN , X_test , test_y )\n",
        "plt.show()"
      ]
    },
    {
      "cell_type": "markdown",
      "metadata": {
        "id": "imwXgtfUf71u"
      },
      "source": [
        "## 🟣 Accuracy Score"
      ]
    },
    {
      "cell_type": "code",
      "execution_count": 319,
      "metadata": {
        "execution": {
          "iopub.status.busy": "2022-07-26T06:10:16.912477Z",
          "iopub.status.idle": "2022-07-26T06:10:16.912842Z",
          "shell.execute_reply": "2022-07-26T06:10:16.912665Z",
          "shell.execute_reply.started": "2022-07-26T06:10:16.912643Z"
        },
        "id": "Fhs6FDBjf71u",
        "colab": {
          "base_uri": "https://localhost:8080/"
        },
        "outputId": "034b1f98-ac9b-4d4c-dacf-75e92d9daf85"
      },
      "outputs": [
        {
          "output_type": "execute_result",
          "data": {
            "text/plain": [
              "0.75"
            ]
          },
          "metadata": {},
          "execution_count": 319
        }
      ],
      "source": [
        "acc_KNN = accuracy_score(test_y, pred_y_KNN)\n",
        "acc_KNN"
      ]
    },
    {
      "cell_type": "markdown",
      "metadata": {
        "id": "Rav11c2yf71u"
      },
      "source": [
        "## 🟣 Precision Score"
      ]
    },
    {
      "cell_type": "code",
      "execution_count": 320,
      "metadata": {
        "id": "yOZM5W-cf71u",
        "colab": {
          "base_uri": "https://localhost:8080/"
        },
        "outputId": "a5866920-26e5-43d7-bbb4-4d792b868f69"
      },
      "outputs": [
        {
          "output_type": "execute_result",
          "data": {
            "text/plain": [
              "0.6715328467153284"
            ]
          },
          "metadata": {},
          "execution_count": 320
        }
      ],
      "source": [
        "p_score_KNN = precision_score(test_y, pred_y_KNN)\n",
        "p_score_KNN"
      ]
    },
    {
      "cell_type": "markdown",
      "metadata": {
        "id": "ExIgXdfnf71u"
      },
      "source": [
        "## 🟣 Recall score"
      ]
    },
    {
      "cell_type": "code",
      "execution_count": 321,
      "metadata": {
        "id": "jHBSdmoYf71v",
        "colab": {
          "base_uri": "https://localhost:8080/"
        },
        "outputId": "64df1281-de36-4a17-e479-cc569643b9de"
      },
      "outputs": [
        {
          "output_type": "execute_result",
          "data": {
            "text/plain": [
              "0.8070175438596491"
            ]
          },
          "metadata": {},
          "execution_count": 321
        }
      ],
      "source": [
        "r_score_KNN = recall_score(test_y, pred_y_KNN)\n",
        "r_score_KNN"
      ]
    },
    {
      "cell_type": "markdown",
      "metadata": {
        "id": "g5W5yE7Ff71v"
      },
      "source": [
        "## 🟣 F1-score"
      ]
    },
    {
      "cell_type": "code",
      "execution_count": 322,
      "metadata": {
        "id": "m-BGtxGWf71v",
        "colab": {
          "base_uri": "https://localhost:8080/"
        },
        "outputId": "2b2ece69-99f7-4e6a-b878-d9807f5e3dd6"
      },
      "outputs": [
        {
          "output_type": "execute_result",
          "data": {
            "text/plain": [
              "0.7330677290836652"
            ]
          },
          "metadata": {},
          "execution_count": 322
        }
      ],
      "source": [
        "f_score_KNN = f1_score(test_y, pred_y_KNN)\n",
        "f_score_KNN"
      ]
    },
    {
      "cell_type": "code",
      "source": [
        "pd.DataFrame([acc_KNN*100, p_score_KNN*100, r_score_KNN*100, f_score_KNN*100],['Accuracy' , 'Precision' , 'Recall' , 'F1-score'],['precent'])"
      ],
      "metadata": {
        "colab": {
          "base_uri": "https://localhost:8080/",
          "height": 175
        },
        "id": "jBeHfkD7gEzk",
        "outputId": "8a987624-d37a-4afc-fd29-8a75c9de382d"
      },
      "execution_count": 323,
      "outputs": [
        {
          "output_type": "execute_result",
          "data": {
            "text/plain": [
              "             precent\n",
              "Accuracy   75.000000\n",
              "Precision  67.153285\n",
              "Recall     80.701754\n",
              "F1-score   73.306773"
            ],
            "text/html": [
              "\n",
              "  <div id=\"df-783c49f8-d9e7-445b-8c08-ea6a1e1aea1f\">\n",
              "    <div class=\"colab-df-container\">\n",
              "      <div>\n",
              "<style scoped>\n",
              "    .dataframe tbody tr th:only-of-type {\n",
              "        vertical-align: middle;\n",
              "    }\n",
              "\n",
              "    .dataframe tbody tr th {\n",
              "        vertical-align: top;\n",
              "    }\n",
              "\n",
              "    .dataframe thead th {\n",
              "        text-align: right;\n",
              "    }\n",
              "</style>\n",
              "<table border=\"1\" class=\"dataframe\">\n",
              "  <thead>\n",
              "    <tr style=\"text-align: right;\">\n",
              "      <th></th>\n",
              "      <th>precent</th>\n",
              "    </tr>\n",
              "  </thead>\n",
              "  <tbody>\n",
              "    <tr>\n",
              "      <th>Accuracy</th>\n",
              "      <td>75.000000</td>\n",
              "    </tr>\n",
              "    <tr>\n",
              "      <th>Precision</th>\n",
              "      <td>67.153285</td>\n",
              "    </tr>\n",
              "    <tr>\n",
              "      <th>Recall</th>\n",
              "      <td>80.701754</td>\n",
              "    </tr>\n",
              "    <tr>\n",
              "      <th>F1-score</th>\n",
              "      <td>73.306773</td>\n",
              "    </tr>\n",
              "  </tbody>\n",
              "</table>\n",
              "</div>\n",
              "      <button class=\"colab-df-convert\" onclick=\"convertToInteractive('df-783c49f8-d9e7-445b-8c08-ea6a1e1aea1f')\"\n",
              "              title=\"Convert this dataframe to an interactive table.\"\n",
              "              style=\"display:none;\">\n",
              "        \n",
              "  <svg xmlns=\"http://www.w3.org/2000/svg\" height=\"24px\"viewBox=\"0 0 24 24\"\n",
              "       width=\"24px\">\n",
              "    <path d=\"M0 0h24v24H0V0z\" fill=\"none\"/>\n",
              "    <path d=\"M18.56 5.44l.94 2.06.94-2.06 2.06-.94-2.06-.94-.94-2.06-.94 2.06-2.06.94zm-11 1L8.5 8.5l.94-2.06 2.06-.94-2.06-.94L8.5 2.5l-.94 2.06-2.06.94zm10 10l.94 2.06.94-2.06 2.06-.94-2.06-.94-.94-2.06-.94 2.06-2.06.94z\"/><path d=\"M17.41 7.96l-1.37-1.37c-.4-.4-.92-.59-1.43-.59-.52 0-1.04.2-1.43.59L10.3 9.45l-7.72 7.72c-.78.78-.78 2.05 0 2.83L4 21.41c.39.39.9.59 1.41.59.51 0 1.02-.2 1.41-.59l7.78-7.78 2.81-2.81c.8-.78.8-2.07 0-2.86zM5.41 20L4 18.59l7.72-7.72 1.47 1.35L5.41 20z\"/>\n",
              "  </svg>\n",
              "      </button>\n",
              "      \n",
              "  <style>\n",
              "    .colab-df-container {\n",
              "      display:flex;\n",
              "      flex-wrap:wrap;\n",
              "      gap: 12px;\n",
              "    }\n",
              "\n",
              "    .colab-df-convert {\n",
              "      background-color: #E8F0FE;\n",
              "      border: none;\n",
              "      border-radius: 50%;\n",
              "      cursor: pointer;\n",
              "      display: none;\n",
              "      fill: #1967D2;\n",
              "      height: 32px;\n",
              "      padding: 0 0 0 0;\n",
              "      width: 32px;\n",
              "    }\n",
              "\n",
              "    .colab-df-convert:hover {\n",
              "      background-color: #E2EBFA;\n",
              "      box-shadow: 0px 1px 2px rgba(60, 64, 67, 0.3), 0px 1px 3px 1px rgba(60, 64, 67, 0.15);\n",
              "      fill: #174EA6;\n",
              "    }\n",
              "\n",
              "    [theme=dark] .colab-df-convert {\n",
              "      background-color: #3B4455;\n",
              "      fill: #D2E3FC;\n",
              "    }\n",
              "\n",
              "    [theme=dark] .colab-df-convert:hover {\n",
              "      background-color: #434B5C;\n",
              "      box-shadow: 0px 1px 3px 1px rgba(0, 0, 0, 0.15);\n",
              "      filter: drop-shadow(0px 1px 2px rgba(0, 0, 0, 0.3));\n",
              "      fill: #FFFFFF;\n",
              "    }\n",
              "  </style>\n",
              "\n",
              "      <script>\n",
              "        const buttonEl =\n",
              "          document.querySelector('#df-783c49f8-d9e7-445b-8c08-ea6a1e1aea1f button.colab-df-convert');\n",
              "        buttonEl.style.display =\n",
              "          google.colab.kernel.accessAllowed ? 'block' : 'none';\n",
              "\n",
              "        async function convertToInteractive(key) {\n",
              "          const element = document.querySelector('#df-783c49f8-d9e7-445b-8c08-ea6a1e1aea1f');\n",
              "          const dataTable =\n",
              "            await google.colab.kernel.invokeFunction('convertToInteractive',\n",
              "                                                     [key], {});\n",
              "          if (!dataTable) return;\n",
              "\n",
              "          const docLinkHtml = 'Like what you see? Visit the ' +\n",
              "            '<a target=\"_blank\" href=https://colab.research.google.com/notebooks/data_table.ipynb>data table notebook</a>'\n",
              "            + ' to learn more about interactive tables.';\n",
              "          element.innerHTML = '';\n",
              "          dataTable['output_type'] = 'display_data';\n",
              "          await google.colab.output.renderOutput(dataTable, element);\n",
              "          const docLink = document.createElement('div');\n",
              "          docLink.innerHTML = docLinkHtml;\n",
              "          element.appendChild(docLink);\n",
              "        }\n",
              "      </script>\n",
              "    </div>\n",
              "  </div>\n",
              "  "
            ]
          },
          "metadata": {},
          "execution_count": 323
        }
      ]
    },
    {
      "cell_type": "markdown",
      "metadata": {
        "id": "o6h7KbAbf71v"
      },
      "source": [
        "# Step14: Elbow Method for Choosing Reasonable K Values"
      ]
    },
    {
      "cell_type": "code",
      "execution_count": 324,
      "metadata": {
        "execution": {
          "iopub.status.busy": "2022-07-26T06:10:16.917965Z",
          "iopub.status.idle": "2022-07-26T06:10:16.918324Z",
          "shell.execute_reply": "2022-07-26T06:10:16.918162Z",
          "shell.execute_reply.started": "2022-07-26T06:10:16.918128Z"
        },
        "id": "BdwdeGpmf71v",
        "colab": {
          "base_uri": "https://localhost:8080/"
        },
        "outputId": "cbdfa13a-e1fe-46d5-ccd7-7c8d3d54005b"
      },
      "outputs": [
        {
          "output_type": "stream",
          "name": "stderr",
          "text": [
            "/usr/local/lib/python3.7/dist-packages/ipykernel_launcher.py:2: DeprecationWarning: The default dtype for empty Series will be 'object' instead of 'float64' in a future version. Specify a dtype explicitly to silence this warning.\n",
            "  \n"
          ]
        },
        {
          "output_type": "stream",
          "name": "stdout",
          "text": [
            "Error for different values of n are: [0.22014925 0.2238806  0.22014925 0.21641791 0.22014925 0.20149254\n",
            " 0.19402985 0.18283582 0.17537313 0.18656716 0.17537313 0.17537313\n",
            " 0.17537313 0.17910448 0.17910448 0.18283582 0.19402985 0.19402985\n",
            " 0.19402985 0.19029851 0.19402985 0.19776119 0.19776119 0.19776119\n",
            " 0.19402985 0.19776119 0.19776119 0.19029851 0.19402985 0.19402985\n",
            " 0.19776119 0.19776119 0.19776119 0.19776119 0.20149254 0.19029851\n",
            " 0.19776119 0.19402985 0.19776119 0.19776119 0.19776119 0.20149254\n",
            " 0.20149254 0.20149254 0.20149254 0.20149254 0.20149254 0.20149254\n",
            " 0.20522388] \n",
            "with the min value as  0.17537313432835822 0.17537313432835822\n"
          ]
        }
      ],
      "source": [
        "a_index = list(range(1,50))\n",
        "a= pd.Series()\n",
        "\n",
        "for i in a_index:\n",
        "    model_KNN = KNeighborsClassifier(n_neighbors=i) \n",
        "    model_KNN.fit(X_train, train_y)\n",
        "    prediction = model_KNN.predict(X_test)\n",
        "    a = a.append(pd.Series(1-metrics.accuracy_score(prediction,test_y)))\n",
        "\n",
        "print('Error for different values of n are:',a.values,'\\nwith the min value as ',a.values.min(),a.values.min())"
      ]
    },
    {
      "cell_type": "markdown",
      "metadata": {
        "id": "jQoNb5s8f71v"
      },
      "source": [
        "### Plot"
      ]
    },
    {
      "cell_type": "code",
      "execution_count": 325,
      "metadata": {
        "execution": {
          "iopub.status.busy": "2022-07-26T06:10:16.920431Z",
          "iopub.status.idle": "2022-07-26T06:10:16.920765Z",
          "shell.execute_reply": "2022-07-26T06:10:16.920617Z",
          "shell.execute_reply.started": "2022-07-26T06:10:16.920600Z"
        },
        "id": "fgpIQpA6f71w",
        "colab": {
          "base_uri": "https://localhost:8080/",
          "height": 374
        },
        "outputId": "a35c0d0d-3f6e-426b-89bb-706a5eaeaa33"
      },
      "outputs": [
        {
          "output_type": "display_data",
          "data": {
            "text/plain": [
              "<Figure size 864x432 with 1 Axes>"
            ],
            "image/png": "[encoded data removed]"
          },
          "metadata": {
            "needs_background": "light"
          }
        }
      ],
      "source": [
        "x= list(range(1,50))\n",
        "\n",
        "plt.plot(a_index, a)\n",
        "plt.xticks(x)\n",
        "fig=plt.gcf()\n",
        "fig.set_size_inches(12,6)\n",
        "plt.show()"
      ]
    },
    {
      "cell_type": "markdown",
      "metadata": {
        "id": "ZGtBU_3if71w"
      },
      "source": [
        "# Step15: Creating a Pipeline to find best K value"
      ]
    },
    {
      "cell_type": "code",
      "execution_count": 326,
      "metadata": {
        "execution": {
          "iopub.status.busy": "2022-07-26T06:10:16.921900Z",
          "iopub.status.idle": "2022-07-26T06:10:16.922246Z",
          "shell.execute_reply": "2022-07-26T06:10:16.922089Z",
          "shell.execute_reply.started": "2022-07-26T06:10:16.922074Z"
        },
        "id": "F81ZiFRqf71w"
      },
      "outputs": [],
      "source": [
        "from sklearn.pipeline import Pipeline\n",
        "from sklearn.model_selection import GridSearchCV"
      ]
    },
    {
      "cell_type": "code",
      "source": [
        "scaler = StandardScaler()\n",
        "KNN = KNeighborsClassifier()"
      ],
      "metadata": {
        "id": "OAJp3zl6lgw4"
      },
      "execution_count": 327,
      "outputs": []
    },
    {
      "cell_type": "code",
      "source": [
        "operation = [('scaler', scaler), ('knn', KNN)]\n",
        "\n",
        "pipe = Pipeline(operation)"
      ],
      "metadata": {
        "id": "Sk0bTD6elXfw"
      },
      "execution_count": 328,
      "outputs": []
    },
    {
      "cell_type": "code",
      "source": [
        "k_values = list(range(1,20))\n",
        "param_grids = {'knn__n_neighbors' : k_values}"
      ],
      "metadata": {
        "id": "tArbNwwmmKBK"
      },
      "execution_count": 329,
      "outputs": []
    },
    {
      "cell_type": "code",
      "source": [
        "full_cv_classifier = GridSearchCV(pipe, param_grids, cv=5, scoring='accuracy')\n",
        "full_cv_classifier.fit(X_train, train_y)"
      ],
      "metadata": {
        "colab": {
          "base_uri": "https://localhost:8080/"
        },
        "id": "7pi3HTBnm9-v",
        "outputId": "95d657ca-91cd-440a-d55d-82c83d81519e"
      },
      "execution_count": 330,
      "outputs": [
        {
          "output_type": "execute_result",
          "data": {
            "text/plain": [
              "GridSearchCV(cv=5,\n",
              "             estimator=Pipeline(steps=[('scaler', StandardScaler()),\n",
              "                                       ('knn', KNeighborsClassifier())]),\n",
              "             param_grid={'knn__n_neighbors': [1, 2, 3, 4, 5, 6, 7, 8, 9, 10, 11,\n",
              "                                              12, 13, 14, 15, 16, 17, 18, 19]},\n",
              "             scoring='accuracy')"
            ]
          },
          "metadata": {},
          "execution_count": 330
        }
      ]
    },
    {
      "cell_type": "code",
      "source": [
        "full_cv_classifier.best_estimator_.get_params()"
      ],
      "metadata": {
        "colab": {
          "base_uri": "https://localhost:8080/"
        },
        "id": "gIJDwy_Cn88X",
        "outputId": "2a1a1281-eea2-48d1-d6c7-73d1dc2bf945"
      },
      "execution_count": 331,
      "outputs": [
        {
          "output_type": "execute_result",
          "data": {
            "text/plain": [
              "{'knn': KNeighborsClassifier(n_neighbors=14),\n",
              " 'knn__algorithm': 'auto',\n",
              " 'knn__leaf_size': 30,\n",
              " 'knn__metric': 'minkowski',\n",
              " 'knn__metric_params': None,\n",
              " 'knn__n_jobs': None,\n",
              " 'knn__n_neighbors': 14,\n",
              " 'knn__p': 2,\n",
              " 'knn__weights': 'uniform',\n",
              " 'memory': None,\n",
              " 'scaler': StandardScaler(),\n",
              " 'scaler__copy': True,\n",
              " 'scaler__with_mean': True,\n",
              " 'scaler__with_std': True,\n",
              " 'steps': [('scaler', StandardScaler()),\n",
              "  ('knn', KNeighborsClassifier(n_neighbors=14))],\n",
              " 'verbose': False}"
            ]
          },
          "metadata": {},
          "execution_count": 331
        }
      ]
    },
    {
      "cell_type": "markdown",
      "metadata": {
        "id": "njAw3aIef71w"
      },
      "source": [
        "# Step16: Final Model"
      ]
    },
    {
      "cell_type": "markdown",
      "metadata": {
        "id": "dzSVBxVTf71w"
      },
      "source": [
        "## 🟣 Fit model with the best K value"
      ]
    },
    {
      "cell_type": "code",
      "execution_count": 332,
      "metadata": {
        "execution": {
          "iopub.status.busy": "2022-07-26T06:10:16.937074Z",
          "iopub.status.idle": "2022-07-26T06:10:16.937574Z",
          "shell.execute_reply": "2022-07-26T06:10:16.937248Z",
          "shell.execute_reply.started": "2022-07-26T06:10:16.937232Z"
        },
        "id": "WT6xdMV6f71w",
        "colab": {
          "base_uri": "https://localhost:8080/"
        },
        "outputId": "4cb2a5bf-473b-4295-abbe-008a54cfb0b6"
      },
      "outputs": [
        {
          "output_type": "execute_result",
          "data": {
            "text/plain": [
              "KNeighborsClassifier(n_neighbors=14)"
            ]
          },
          "metadata": {},
          "execution_count": 332
        }
      ],
      "source": [
        "model_KNN = KNeighborsClassifier(n_neighbors=14)\n",
        "model_KNN.fit(X_train, train_y)"
      ]
    },
    {
      "cell_type": "markdown",
      "metadata": {
        "id": "0Ko6wlz8f71w"
      },
      "source": [
        "## 🟣 Predict"
      ]
    },
    {
      "cell_type": "code",
      "execution_count": 333,
      "metadata": {
        "execution": {
          "iopub.status.busy": "2022-07-26T06:10:16.941753Z",
          "iopub.status.idle": "2022-07-26T06:10:16.942134Z",
          "shell.execute_reply": "2022-07-26T06:10:16.941956Z",
          "shell.execute_reply.started": "2022-07-26T06:10:16.941935Z"
        },
        "id": "8LFgC0S_f71x"
      },
      "outputs": [],
      "source": [
        "pred_y_KNN = model_KNN.predict(X_test)"
      ]
    },
    {
      "cell_type": "markdown",
      "metadata": {
        "id": "IQJBLsCIf71x"
      },
      "source": [
        "## 🟣 Evaluating the Model"
      ]
    },
    {
      "cell_type": "markdown",
      "metadata": {
        "id": "KsRMhOUyf71x"
      },
      "source": [
        "### Confusion Matrix"
      ]
    },
    {
      "cell_type": "code",
      "execution_count": 334,
      "metadata": {
        "id": "5tQvYtCHf71x",
        "colab": {
          "base_uri": "https://localhost:8080/"
        },
        "outputId": "201ab5de-6d09-42aa-8ed1-390aac1f29f1"
      },
      "outputs": [
        {
          "output_type": "execute_result",
          "data": {
            "text/plain": [
              "array([[142,  12],\n",
              "       [ 36,  78]])"
            ]
          },
          "metadata": {},
          "execution_count": 334
        }
      ],
      "source": [
        "cm = confusion_matrix(test_y, pred_y_KNN)\n",
        "cm"
      ]
    },
    {
      "cell_type": "markdown",
      "metadata": {
        "id": "KhfoySZof71x"
      },
      "source": [
        "#### Classification Report"
      ]
    },
    {
      "cell_type": "code",
      "execution_count": 335,
      "metadata": {
        "execution": {
          "iopub.status.busy": "2022-07-26T06:10:16.943477Z",
          "iopub.status.idle": "2022-07-26T06:10:16.943799Z",
          "shell.execute_reply": "2022-07-26T06:10:16.943650Z",
          "shell.execute_reply.started": "2022-07-26T06:10:16.943629Z"
        },
        "id": "1FWW8mxTf71x",
        "colab": {
          "base_uri": "https://localhost:8080/"
        },
        "outputId": "cbd2de55-1663-4420-f0e5-17bb2c1a3e95"
      },
      "outputs": [
        {
          "output_type": "stream",
          "name": "stdout",
          "text": [
            "              precision    recall  f1-score   support\n",
            "\n",
            "        Gone       0.80      0.92      0.86       154\n",
            "    Survived       0.87      0.68      0.76       114\n",
            "\n",
            "    accuracy                           0.82       268\n",
            "   macro avg       0.83      0.80      0.81       268\n",
            "weighted avg       0.83      0.82      0.82       268\n",
            "\n"
          ]
        }
      ],
      "source": [
        "target_names = ['Gone', 'Survived']\n",
        "cr = classification_report(test_y, pred_y_KNN, target_names = target_names )\n",
        "print(cr)"
      ]
    },
    {
      "cell_type": "markdown",
      "metadata": {
        "id": "Vp4H8yrdf71x"
      },
      "source": [
        "#### Plot Confusion Matrix"
      ]
    },
    {
      "cell_type": "code",
      "execution_count": 336,
      "metadata": {
        "id": "_-mga9Z4f71y",
        "colab": {
          "base_uri": "https://localhost:8080/",
          "height": 335
        },
        "outputId": "f8416dce-8b0c-4e0e-fa1e-82affa9b6cbb"
      },
      "outputs": [
        {
          "output_type": "stream",
          "name": "stderr",
          "text": [
            "/usr/local/lib/python3.7/dist-packages/sklearn/utils/deprecation.py:87: FutureWarning: Function plot_confusion_matrix is deprecated; Function `plot_confusion_matrix` is deprecated in 1.0 and will be removed in 1.2. Use one of the class methods: ConfusionMatrixDisplay.from_predictions or ConfusionMatrixDisplay.from_estimator.\n",
            "  warnings.warn(msg, category=FutureWarning)\n"
          ]
        },
        {
          "output_type": "display_data",
          "data": {
            "text/plain": [
              "<Figure size 432x288 with 2 Axes>"
            ],
            "image/png": "[encoded data removed]"
          },
          "metadata": {
            "needs_background": "light"
          }
        }
      ],
      "source": [
        "plot_confusion_matrix(model_KNN , X_test , test_y )\n",
        "plt.show()"
      ]
    },
    {
      "cell_type": "markdown",
      "metadata": {
        "id": "vQlOygqff71y"
      },
      "source": [
        "### Acuracy"
      ]
    },
    {
      "cell_type": "code",
      "execution_count": 337,
      "metadata": {
        "id": "cJZdySPjf71y",
        "colab": {
          "base_uri": "https://localhost:8080/"
        },
        "outputId": "875847c8-7ef2-4aab-8cf8-724ee07e062e"
      },
      "outputs": [
        {
          "output_type": "execute_result",
          "data": {
            "text/plain": [
              "0.8208955223880597"
            ]
          },
          "metadata": {},
          "execution_count": 337
        }
      ],
      "source": [
        "acc_KNN = accuracy_score(test_y, pred_y_KNN)\n",
        "acc_KNN"
      ]
    },
    {
      "cell_type": "markdown",
      "metadata": {
        "id": "ao6sRjxef71y"
      },
      "source": [
        "### Precision Score"
      ]
    },
    {
      "cell_type": "code",
      "execution_count": 338,
      "metadata": {
        "id": "Nr0xEl_Ff71y",
        "colab": {
          "base_uri": "https://localhost:8080/"
        },
        "outputId": "d2a8fdea-dbd1-4349-d195-ebd11eeabca8"
      },
      "outputs": [
        {
          "output_type": "execute_result",
          "data": {
            "text/plain": [
              "0.8666666666666667"
            ]
          },
          "metadata": {},
          "execution_count": 338
        }
      ],
      "source": [
        "p_score_KNN = precision_score(test_y, pred_y_KNN)\n",
        "p_score_KNN"
      ]
    },
    {
      "cell_type": "markdown",
      "metadata": {
        "id": "uDkNZlIDf71y"
      },
      "source": [
        "### Recall score"
      ]
    },
    {
      "cell_type": "code",
      "execution_count": 339,
      "metadata": {
        "id": "l4jIdBVnf71y",
        "colab": {
          "base_uri": "https://localhost:8080/"
        },
        "outputId": "e7827785-ae7e-418b-ab95-af219aab66ba"
      },
      "outputs": [
        {
          "output_type": "execute_result",
          "data": {
            "text/plain": [
              "0.6842105263157895"
            ]
          },
          "metadata": {},
          "execution_count": 339
        }
      ],
      "source": [
        "r_score_KNN = recall_score(test_y, pred_y_KNN)\n",
        "r_score_KNN"
      ]
    },
    {
      "cell_type": "markdown",
      "metadata": {
        "id": "4UleIuaif71z"
      },
      "source": [
        "### F1-score"
      ]
    },
    {
      "cell_type": "code",
      "execution_count": 340,
      "metadata": {
        "id": "y0AiEjSMf71z",
        "colab": {
          "base_uri": "https://localhost:8080/"
        },
        "outputId": "e50fbbde-ee6d-4616-fa83-7728a4626810"
      },
      "outputs": [
        {
          "output_type": "execute_result",
          "data": {
            "text/plain": [
              "0.7647058823529413"
            ]
          },
          "metadata": {},
          "execution_count": 340
        }
      ],
      "source": [
        "f_score_KNN = f1_score(test_y, pred_y_KNN)\n",
        "f_score_KNN"
      ]
    },
    {
      "cell_type": "markdown",
      "metadata": {
        "id": "_tJ6wwfdf71z"
      },
      "source": [
        "### Predict with a sample"
      ]
    },
    {
      "cell_type": "code",
      "source": [
        "df.head()"
      ],
      "metadata": {
        "colab": {
          "base_uri": "https://localhost:8080/",
          "height": 206
        },
        "id": "DzKwxV9Pzsbw",
        "outputId": "8061b2fb-d3f5-46f1-b903-d8c4f76bddb4"
      },
      "execution_count": 341,
      "outputs": [
        {
          "output_type": "execute_result",
          "data": {
            "text/plain": [
              "   Survived  Pclass  Sex  SibSp  Parch  Embarked  Initial  Age_band  \\\n",
              "0         0       3    0      1      0         0        0         1   \n",
              "1         1       1    1      1      0         1        1         2   \n",
              "2         1       3    1      0      0         0        2         1   \n",
              "3         1       1    1      1      0         0        1         2   \n",
              "4         0       3    0      0      0         0        0         2   \n",
              "\n",
              "   Family_Size  Alone  Fare_cat  \n",
              "0            1      0         0  \n",
              "1            1      0         3  \n",
              "2            0      1         1  \n",
              "3            1      0         3  \n",
              "4            0      1         1  "
            ],
            "text/html": [
              "\n",
              "  <div id=\"df-20ff7e27-1090-46fe-951a-2dc5527520fb\">\n",
              "    <div class=\"colab-df-container\">\n",
              "      <div>\n",
              "<style scoped>\n",
              "    .dataframe tbody tr th:only-of-type {\n",
              "        vertical-align: middle;\n",
              "    }\n",
              "\n",
              "    .dataframe tbody tr th {\n",
              "        vertical-align: top;\n",
              "    }\n",
              "\n",
              "    .dataframe thead th {\n",
              "        text-align: right;\n",
              "    }\n",
              "</style>\n",
              "<table border=\"1\" class=\"dataframe\">\n",
              "  <thead>\n",
              "    <tr style=\"text-align: right;\">\n",
              "      <th></th>\n",
              "      <th>Survived</th>\n",
              "      <th>Pclass</th>\n",
              "      <th>Sex</th>\n",
              "      <th>SibSp</th>\n",
              "      <th>Parch</th>\n",
              "      <th>Embarked</th>\n",
              "      <th>Initial</th>\n",
              "      <th>Age_band</th>\n",
              "      <th>Family_Size</th>\n",
              "      <th>Alone</th>\n",
              "      <th>Fare_cat</th>\n",
              "    </tr>\n",
              "  </thead>\n",
              "  <tbody>\n",
              "    <tr>\n",
              "      <th>0</th>\n",
              "      <td>0</td>\n",
              "      <td>3</td>\n",
              "      <td>0</td>\n",
              "      <td>1</td>\n",
              "      <td>0</td>\n",
              "      <td>0</td>\n",
              "      <td>0</td>\n",
              "      <td>1</td>\n",
              "      <td>1</td>\n",
              "      <td>0</td>\n",
              "      <td>0</td>\n",
              "    </tr>\n",
              "    <tr>\n",
              "      <th>1</th>\n",
              "      <td>1</td>\n",
              "      <td>1</td>\n",
              "      <td>1</td>\n",
              "      <td>1</td>\n",
              "      <td>0</td>\n",
              "      <td>1</td>\n",
              "      <td>1</td>\n",
              "      <td>2</td>\n",
              "      <td>1</td>\n",
              "      <td>0</td>\n",
              "      <td>3</td>\n",
              "    </tr>\n",
              "    <tr>\n",
              "      <th>2</th>\n",
              "      <td>1</td>\n",
              "      <td>3</td>\n",
              "      <td>1</td>\n",
              "      <td>0</td>\n",
              "      <td>0</td>\n",
              "      <td>0</td>\n",
              "      <td>2</td>\n",
              "      <td>1</td>\n",
              "      <td>0</td>\n",
              "      <td>1</td>\n",
              "      <td>1</td>\n",
              "    </tr>\n",
              "    <tr>\n",
              "      <th>3</th>\n",
              "      <td>1</td>\n",
              "      <td>1</td>\n",
              "      <td>1</td>\n",
              "      <td>1</td>\n",
              "      <td>0</td>\n",
              "      <td>0</td>\n",
              "      <td>1</td>\n",
              "      <td>2</td>\n",
              "      <td>1</td>\n",
              "      <td>0</td>\n",
              "      <td>3</td>\n",
              "    </tr>\n",
              "    <tr>\n",
              "      <th>4</th>\n",
              "      <td>0</td>\n",
              "      <td>3</td>\n",
              "      <td>0</td>\n",
              "      <td>0</td>\n",
              "      <td>0</td>\n",
              "      <td>0</td>\n",
              "      <td>0</td>\n",
              "      <td>2</td>\n",
              "      <td>0</td>\n",
              "      <td>1</td>\n",
              "      <td>1</td>\n",
              "    </tr>\n",
              "  </tbody>\n",
              "</table>\n",
              "</div>\n",
              "      <button class=\"colab-df-convert\" onclick=\"convertToInteractive('df-20ff7e27-1090-46fe-951a-2dc5527520fb')\"\n",
              "              title=\"Convert this dataframe to an interactive table.\"\n",
              "              style=\"display:none;\">\n",
              "        \n",
              "  <svg xmlns=\"http://www.w3.org/2000/svg\" height=\"24px\"viewBox=\"0 0 24 24\"\n",
              "       width=\"24px\">\n",
              "    <path d=\"M0 0h24v24H0V0z\" fill=\"none\"/>\n",
              "    <path d=\"M18.56 5.44l.94 2.06.94-2.06 2.06-.94-2.06-.94-.94-2.06-.94 2.06-2.06.94zm-11 1L8.5 8.5l.94-2.06 2.06-.94-2.06-.94L8.5 2.5l-.94 2.06-2.06.94zm10 10l.94 2.06.94-2.06 2.06-.94-2.06-.94-.94-2.06-.94 2.06-2.06.94z\"/><path d=\"M17.41 7.96l-1.37-1.37c-.4-.4-.92-.59-1.43-.59-.52 0-1.04.2-1.43.59L10.3 9.45l-7.72 7.72c-.78.78-.78 2.05 0 2.83L4 21.41c.39.39.9.59 1.41.59.51 0 1.02-.2 1.41-.59l7.78-7.78 2.81-2.81c.8-.78.8-2.07 0-2.86zM5.41 20L4 18.59l7.72-7.72 1.47 1.35L5.41 20z\"/>\n",
              "  </svg>\n",
              "      </button>\n",
              "      \n",
              "  <style>\n",
              "    .colab-df-container {\n",
              "      display:flex;\n",
              "      flex-wrap:wrap;\n",
              "      gap: 12px;\n",
              "    }\n",
              "\n",
              "    .colab-df-convert {\n",
              "      background-color: #E8F0FE;\n",
              "      border: none;\n",
              "      border-radius: 50%;\n",
              "      cursor: pointer;\n",
              "      display: none;\n",
              "      fill: #1967D2;\n",
              "      height: 32px;\n",
              "      padding: 0 0 0 0;\n",
              "      width: 32px;\n",
              "    }\n",
              "\n",
              "    .colab-df-convert:hover {\n",
              "      background-color: #E2EBFA;\n",
              "      box-shadow: 0px 1px 2px rgba(60, 64, 67, 0.3), 0px 1px 3px 1px rgba(60, 64, 67, 0.15);\n",
              "      fill: #174EA6;\n",
              "    }\n",
              "\n",
              "    [theme=dark] .colab-df-convert {\n",
              "      background-color: #3B4455;\n",
              "      fill: #D2E3FC;\n",
              "    }\n",
              "\n",
              "    [theme=dark] .colab-df-convert:hover {\n",
              "      background-color: #434B5C;\n",
              "      box-shadow: 0px 1px 3px 1px rgba(0, 0, 0, 0.15);\n",
              "      filter: drop-shadow(0px 1px 2px rgba(0, 0, 0, 0.3));\n",
              "      fill: #FFFFFF;\n",
              "    }\n",
              "  </style>\n",
              "\n",
              "      <script>\n",
              "        const buttonEl =\n",
              "          document.querySelector('#df-20ff7e27-1090-46fe-951a-2dc5527520fb button.colab-df-convert');\n",
              "        buttonEl.style.display =\n",
              "          google.colab.kernel.accessAllowed ? 'block' : 'none';\n",
              "\n",
              "        async function convertToInteractive(key) {\n",
              "          const element = document.querySelector('#df-20ff7e27-1090-46fe-951a-2dc5527520fb');\n",
              "          const dataTable =\n",
              "            await google.colab.kernel.invokeFunction('convertToInteractive',\n",
              "                                                     [key], {});\n",
              "          if (!dataTable) return;\n",
              "\n",
              "          const docLinkHtml = 'Like what you see? Visit the ' +\n",
              "            '<a target=\"_blank\" href=https://colab.research.google.com/notebooks/data_table.ipynb>data table notebook</a>'\n",
              "            + ' to learn more about interactive tables.';\n",
              "          element.innerHTML = '';\n",
              "          dataTable['output_type'] = 'display_data';\n",
              "          await google.colab.output.renderOutput(dataTable, element);\n",
              "          const docLink = document.createElement('div');\n",
              "          docLink.innerHTML = docLinkHtml;\n",
              "          element.appendChild(docLink);\n",
              "        }\n",
              "      </script>\n",
              "    </div>\n",
              "  </div>\n",
              "  "
            ]
          },
          "metadata": {},
          "execution_count": 341
        }
      ]
    },
    {
      "cell_type": "code",
      "execution_count": 342,
      "metadata": {
        "execution": {
          "iopub.status.busy": "2022-07-26T06:10:16.944714Z",
          "iopub.status.idle": "2022-07-26T06:10:16.945055Z",
          "shell.execute_reply": "2022-07-26T06:10:16.944901Z",
          "shell.execute_reply.started": "2022-07-26T06:10:16.944881Z"
        },
        "id": "WCIgqVY6f71z",
        "colab": {
          "base_uri": "https://localhost:8080/"
        },
        "outputId": "09185a32-d894-43a8-e273-96b96710c207"
      },
      "outputs": [
        {
          "output_type": "execute_result",
          "data": {
            "text/plain": [
              "array([1])"
            ]
          },
          "metadata": {},
          "execution_count": 342
        }
      ],
      "source": [
        "sample = [[1,\t1,\t1,\t0,\t1,\t1,\t2,\t1,\t0,\t3]]\n",
        "model_KNN.predict(sample)"
      ]
    },
    {
      "cell_type": "markdown",
      "metadata": {
        "id": "30ncdvyxf71z"
      },
      "source": [
        "# Step17: Create DataFrame From Accuracy & Precision & Recall & F1-score(Final Model)"
      ]
    },
    {
      "cell_type": "code",
      "execution_count": 344,
      "metadata": {
        "id": "28YbB_46f71z",
        "colab": {
          "base_uri": "https://localhost:8080/",
          "height": 175
        },
        "outputId": "ddc58f94-c620-4a0a-c3fe-96bdcafb0e3e"
      },
      "outputs": [
        {
          "output_type": "execute_result",
          "data": {
            "text/plain": [
              "             precent\n",
              "Accuracy   82.089552\n",
              "Precision  86.666667\n",
              "Recall     68.421053\n",
              "F1-score   76.470588"
            ],
            "text/html": [
              "\n",
              "  <div id=\"df-f807ba93-e950-4fea-ae08-ee4633f93f3a\">\n",
              "    <div class=\"colab-df-container\">\n",
              "      <div>\n",
              "<style scoped>\n",
              "    .dataframe tbody tr th:only-of-type {\n",
              "        vertical-align: middle;\n",
              "    }\n",
              "\n",
              "    .dataframe tbody tr th {\n",
              "        vertical-align: top;\n",
              "    }\n",
              "\n",
              "    .dataframe thead th {\n",
              "        text-align: right;\n",
              "    }\n",
              "</style>\n",
              "<table border=\"1\" class=\"dataframe\">\n",
              "  <thead>\n",
              "    <tr style=\"text-align: right;\">\n",
              "      <th></th>\n",
              "      <th>precent</th>\n",
              "    </tr>\n",
              "  </thead>\n",
              "  <tbody>\n",
              "    <tr>\n",
              "      <th>Accuracy</th>\n",
              "      <td>82.089552</td>\n",
              "    </tr>\n",
              "    <tr>\n",
              "      <th>Precision</th>\n",
              "      <td>86.666667</td>\n",
              "    </tr>\n",
              "    <tr>\n",
              "      <th>Recall</th>\n",
              "      <td>68.421053</td>\n",
              "    </tr>\n",
              "    <tr>\n",
              "      <th>F1-score</th>\n",
              "      <td>76.470588</td>\n",
              "    </tr>\n",
              "  </tbody>\n",
              "</table>\n",
              "</div>\n",
              "      <button class=\"colab-df-convert\" onclick=\"convertToInteractive('df-f807ba93-e950-4fea-ae08-ee4633f93f3a')\"\n",
              "              title=\"Convert this dataframe to an interactive table.\"\n",
              "              style=\"display:none;\">\n",
              "        \n",
              "  <svg xmlns=\"http://www.w3.org/2000/svg\" height=\"24px\"viewBox=\"0 0 24 24\"\n",
              "       width=\"24px\">\n",
              "    <path d=\"M0 0h24v24H0V0z\" fill=\"none\"/>\n",
              "    <path d=\"M18.56 5.44l.94 2.06.94-2.06 2.06-.94-2.06-.94-.94-2.06-.94 2.06-2.06.94zm-11 1L8.5 8.5l.94-2.06 2.06-.94-2.06-.94L8.5 2.5l-.94 2.06-2.06.94zm10 10l.94 2.06.94-2.06 2.06-.94-2.06-.94-.94-2.06-.94 2.06-2.06.94z\"/><path d=\"M17.41 7.96l-1.37-1.37c-.4-.4-.92-.59-1.43-.59-.52 0-1.04.2-1.43.59L10.3 9.45l-7.72 7.72c-.78.78-.78 2.05 0 2.83L4 21.41c.39.39.9.59 1.41.59.51 0 1.02-.2 1.41-.59l7.78-7.78 2.81-2.81c.8-.78.8-2.07 0-2.86zM5.41 20L4 18.59l7.72-7.72 1.47 1.35L5.41 20z\"/>\n",
              "  </svg>\n",
              "      </button>\n",
              "      \n",
              "  <style>\n",
              "    .colab-df-container {\n",
              "      display:flex;\n",
              "      flex-wrap:wrap;\n",
              "      gap: 12px;\n",
              "    }\n",
              "\n",
              "    .colab-df-convert {\n",
              "      background-color: #E8F0FE;\n",
              "      border: none;\n",
              "      border-radius: 50%;\n",
              "      cursor: pointer;\n",
              "      display: none;\n",
              "      fill: #1967D2;\n",
              "      height: 32px;\n",
              "      padding: 0 0 0 0;\n",
              "      width: 32px;\n",
              "    }\n",
              "\n",
              "    .colab-df-convert:hover {\n",
              "      background-color: #E2EBFA;\n",
              "      box-shadow: 0px 1px 2px rgba(60, 64, 67, 0.3), 0px 1px 3px 1px rgba(60, 64, 67, 0.15);\n",
              "      fill: #174EA6;\n",
              "    }\n",
              "\n",
              "    [theme=dark] .colab-df-convert {\n",
              "      background-color: #3B4455;\n",
              "      fill: #D2E3FC;\n",
              "    }\n",
              "\n",
              "    [theme=dark] .colab-df-convert:hover {\n",
              "      background-color: #434B5C;\n",
              "      box-shadow: 0px 1px 3px 1px rgba(0, 0, 0, 0.15);\n",
              "      filter: drop-shadow(0px 1px 2px rgba(0, 0, 0, 0.3));\n",
              "      fill: #FFFFFF;\n",
              "    }\n",
              "  </style>\n",
              "\n",
              "      <script>\n",
              "        const buttonEl =\n",
              "          document.querySelector('#df-f807ba93-e950-4fea-ae08-ee4633f93f3a button.colab-df-convert');\n",
              "        buttonEl.style.display =\n",
              "          google.colab.kernel.accessAllowed ? 'block' : 'none';\n",
              "\n",
              "        async function convertToInteractive(key) {\n",
              "          const element = document.querySelector('#df-f807ba93-e950-4fea-ae08-ee4633f93f3a');\n",
              "          const dataTable =\n",
              "            await google.colab.kernel.invokeFunction('convertToInteractive',\n",
              "                                                     [key], {});\n",
              "          if (!dataTable) return;\n",
              "\n",
              "          const docLinkHtml = 'Like what you see? Visit the ' +\n",
              "            '<a target=\"_blank\" href=https://colab.research.google.com/notebooks/data_table.ipynb>data table notebook</a>'\n",
              "            + ' to learn more about interactive tables.';\n",
              "          element.innerHTML = '';\n",
              "          dataTable['output_type'] = 'display_data';\n",
              "          await google.colab.output.renderOutput(dataTable, element);\n",
              "          const docLink = document.createElement('div');\n",
              "          docLink.innerHTML = docLinkHtml;\n",
              "          element.appendChild(docLink);\n",
              "        }\n",
              "      </script>\n",
              "    </div>\n",
              "  </div>\n",
              "  "
            ]
          },
          "metadata": {},
          "execution_count": 344
        }
      ],
      "source": [
        "eval_KNN = pd.DataFrame([acc_KNN*100, p_score_KNN*100, r_score_KNN*100, f_score_KNN*100],['Accuracy' , 'Precision' , 'Recall' , 'F1-score'],['precent'])\n",
        "eval_KNN"
      ]
    },
    {
      "cell_type": "markdown",
      "metadata": {
        "id": "HFKXZIR7f710"
      },
      "source": [
        "# PART 03"
      ]
    },
    {
      "cell_type": "markdown",
      "metadata": {
        "id": "2KxDDO8Af710"
      },
      "source": [
        "# Step18: Build the model ---> SVM"
      ]
    },
    {
      "cell_type": "code",
      "execution_count": 345,
      "metadata": {
        "execution": {
          "iopub.status.busy": "2022-07-26T06:10:16.954747Z",
          "iopub.status.idle": "2022-07-26T06:10:16.955246Z",
          "shell.execute_reply": "2022-07-26T06:10:16.955017Z",
          "shell.execute_reply.started": "2022-07-26T06:10:16.954992Z"
        },
        "id": "UY8_CqbLf710",
        "colab": {
          "base_uri": "https://localhost:8080/"
        },
        "outputId": "3762bc20-d115-43f2-aaa0-75b1cbc1b540"
      },
      "outputs": [
        {
          "output_type": "execute_result",
          "data": {
            "text/plain": [
              "SVC(C=0.1, gamma=0.1, kernel='linear')"
            ]
          },
          "metadata": {},
          "execution_count": 345
        }
      ],
      "source": [
        "model_SVC = svm.SVC(kernel='linear', C=0.1, gamma=0.1)\n",
        "model_SVC.fit(X_train , train_y)"
      ]
    },
    {
      "cell_type": "markdown",
      "metadata": {
        "id": "9QeO6Xb1f710"
      },
      "source": [
        "# Step19: Predict"
      ]
    },
    {
      "cell_type": "code",
      "execution_count": 346,
      "metadata": {
        "execution": {
          "iopub.status.busy": "2022-07-26T06:10:16.958532Z",
          "iopub.status.idle": "2022-07-26T06:10:16.959046Z",
          "shell.execute_reply": "2022-07-26T06:10:16.958789Z",
          "shell.execute_reply.started": "2022-07-26T06:10:16.958765Z"
        },
        "id": "GFKMIU5If710"
      },
      "outputs": [],
      "source": [
        "pred_y_SVC = model_SVC.predict(X_test)"
      ]
    },
    {
      "cell_type": "markdown",
      "metadata": {
        "id": "3KxS9lDIf710"
      },
      "source": [
        "# Step20: Evaluate model"
      ]
    },
    {
      "cell_type": "markdown",
      "metadata": {
        "id": "fPQgnx_af710"
      },
      "source": [
        "## 🟣 Confusion Matrix"
      ]
    },
    {
      "cell_type": "code",
      "execution_count": 347,
      "metadata": {
        "execution": {
          "iopub.status.busy": "2022-07-26T06:10:16.960527Z",
          "iopub.status.idle": "2022-07-26T06:10:16.960898Z",
          "shell.execute_reply": "2022-07-26T06:10:16.960710Z",
          "shell.execute_reply.started": "2022-07-26T06:10:16.960687Z"
        },
        "id": "gSq43nd3f711",
        "colab": {
          "base_uri": "https://localhost:8080/"
        },
        "outputId": "e90a86bf-357d-4221-c1ec-5e728a7f4015"
      },
      "outputs": [
        {
          "output_type": "execute_result",
          "data": {
            "text/plain": [
              "array([[133,  21],\n",
              "       [ 41,  73]])"
            ]
          },
          "metadata": {},
          "execution_count": 347
        }
      ],
      "source": [
        "cm = confusion_matrix(test_y, pred_y_SVC)\n",
        "cm"
      ]
    },
    {
      "cell_type": "markdown",
      "metadata": {
        "id": "iNnS5P4Gf711"
      },
      "source": [
        "### Classification Report"
      ]
    },
    {
      "cell_type": "code",
      "execution_count": 348,
      "metadata": {
        "execution": {
          "iopub.status.busy": "2022-07-26T06:10:16.962507Z",
          "iopub.status.idle": "2022-07-26T06:10:16.962816Z",
          "shell.execute_reply": "2022-07-26T06:10:16.962672Z",
          "shell.execute_reply.started": "2022-07-26T06:10:16.962657Z"
        },
        "id": "iT2ANzHzf711",
        "colab": {
          "base_uri": "https://localhost:8080/"
        },
        "outputId": "ab9150e1-826a-4bd2-a385-c79729b4a80e"
      },
      "outputs": [
        {
          "output_type": "stream",
          "name": "stdout",
          "text": [
            "              precision    recall  f1-score   support\n",
            "\n",
            "        Gone       0.76      0.86      0.81       154\n",
            "    Survived       0.78      0.64      0.70       114\n",
            "\n",
            "    accuracy                           0.77       268\n",
            "   macro avg       0.77      0.75      0.76       268\n",
            "weighted avg       0.77      0.77      0.76       268\n",
            "\n"
          ]
        }
      ],
      "source": [
        "target_names = ['Gone', 'Survived']\n",
        "cr = classification_report(test_y, pred_y_SVC, target_names = target_names )\n",
        "print(cr)"
      ]
    },
    {
      "cell_type": "markdown",
      "metadata": {
        "id": "7v1wN-y6f711"
      },
      "source": [
        "### Plot Confusion Matrix"
      ]
    },
    {
      "cell_type": "code",
      "execution_count": 349,
      "metadata": {
        "id": "LwuBjbm-f711",
        "colab": {
          "base_uri": "https://localhost:8080/",
          "height": 334
        },
        "outputId": "64d6caa9-915d-4949-ff2b-9e39dcce86b5"
      },
      "outputs": [
        {
          "output_type": "stream",
          "name": "stderr",
          "text": [
            "/usr/local/lib/python3.7/dist-packages/sklearn/utils/deprecation.py:87: FutureWarning: Function plot_confusion_matrix is deprecated; Function `plot_confusion_matrix` is deprecated in 1.0 and will be removed in 1.2. Use one of the class methods: ConfusionMatrixDisplay.from_predictions or ConfusionMatrixDisplay.from_estimator.\n",
            "  warnings.warn(msg, category=FutureWarning)\n"
          ]
        },
        {
          "output_type": "display_data",
          "data": {
            "text/plain": [
              "<Figure size 432x288 with 2 Axes>"
            ],
            "image/png": "[encoded data removed]"
          },
          "metadata": {
            "needs_background": "light"
          }
        }
      ],
      "source": [
        "plot_confusion_matrix(model_SVC , X_test , test_y )\n",
        "plt.show()"
      ]
    },
    {
      "cell_type": "markdown",
      "metadata": {
        "id": "TZvJlEeQf712"
      },
      "source": [
        "## 🟣Acuracy"
      ]
    },
    {
      "cell_type": "code",
      "execution_count": 350,
      "metadata": {
        "id": "C2KtEe2_f712",
        "colab": {
          "base_uri": "https://localhost:8080/"
        },
        "outputId": "38b26629-1d21-4ae2-a00a-1aa3f9f6ad13"
      },
      "outputs": [
        {
          "output_type": "execute_result",
          "data": {
            "text/plain": [
              "0.7686567164179104"
            ]
          },
          "metadata": {},
          "execution_count": 350
        }
      ],
      "source": [
        "acc_SVC = accuracy_score(test_y, pred_y_SVC)\n",
        "acc_SVC"
      ]
    },
    {
      "cell_type": "markdown",
      "metadata": {
        "id": "RjDUu9Cif712"
      },
      "source": [
        "## 🟣 Precision Score"
      ]
    },
    {
      "cell_type": "code",
      "execution_count": 351,
      "metadata": {
        "id": "Cr3LfhFlf712",
        "colab": {
          "base_uri": "https://localhost:8080/"
        },
        "outputId": "68dfcd8a-4b98-437e-ddad-7222219c998e"
      },
      "outputs": [
        {
          "output_type": "execute_result",
          "data": {
            "text/plain": [
              "0.776595744680851"
            ]
          },
          "metadata": {},
          "execution_count": 351
        }
      ],
      "source": [
        "p_score_SVC = precision_score(test_y, pred_y_SVC)\n",
        "p_score_SVC"
      ]
    },
    {
      "cell_type": "markdown",
      "metadata": {
        "id": "QqvGY709f712"
      },
      "source": [
        "## 🟣 Recall score"
      ]
    },
    {
      "cell_type": "code",
      "execution_count": 352,
      "metadata": {
        "id": "rKNzvyZUf712",
        "colab": {
          "base_uri": "https://localhost:8080/"
        },
        "outputId": "8452ddee-be8f-4171-cf9c-c107e21baad4"
      },
      "outputs": [
        {
          "output_type": "execute_result",
          "data": {
            "text/plain": [
              "0.6403508771929824"
            ]
          },
          "metadata": {},
          "execution_count": 352
        }
      ],
      "source": [
        "r_score_SVC = recall_score(test_y, pred_y_SVC)\n",
        "r_score_SVC"
      ]
    },
    {
      "cell_type": "markdown",
      "metadata": {
        "id": "6tdcxxwXf713"
      },
      "source": [
        "## 🟣 F1-score"
      ]
    },
    {
      "cell_type": "code",
      "execution_count": 353,
      "metadata": {
        "id": "cPMnSkoNf713",
        "colab": {
          "base_uri": "https://localhost:8080/"
        },
        "outputId": "cd6e9891-835d-40cd-8d4c-91dc6b6b3203"
      },
      "outputs": [
        {
          "output_type": "execute_result",
          "data": {
            "text/plain": [
              "0.7019230769230769"
            ]
          },
          "metadata": {},
          "execution_count": 353
        }
      ],
      "source": [
        "f_score_SVC = f1_score(test_y, pred_y_SVC)\n",
        "f_score_SVC"
      ]
    },
    {
      "cell_type": "markdown",
      "metadata": {
        "id": "oHxgt3U2f713"
      },
      "source": [
        "# Step21: Final Model\n",
        "<hr>\n",
        "<h1> Hyperparameters\n",
        "<h4> Choosing the best hyperparameters through GridSearchCV"
      ]
    },
    {
      "cell_type": "code",
      "source": [
        "svm_model = svm.SVC()\n",
        "param_grid = {'C':[0.01, 0.1, 1, 10, 100, 1000] , 'gamma':[1, 0.1 , 0.01, 0.001, 0.0001] , 'kernel':['linear', 'poly', 'rbf']}"
      ],
      "metadata": {
        "id": "jodx3G_i4yk6"
      },
      "execution_count": 354,
      "outputs": []
    },
    {
      "cell_type": "markdown",
      "metadata": {
        "id": "mf620Jwhf713"
      },
      "source": [
        "## 🟣 Fit model with the best hyperparameters"
      ]
    },
    {
      "cell_type": "code",
      "execution_count": 355,
      "metadata": {
        "execution": {
          "iopub.status.busy": "2022-07-26T06:10:16.966613Z",
          "iopub.status.idle": "2022-07-26T06:10:16.966992Z",
          "shell.execute_reply": "2022-07-26T06:10:16.966801Z",
          "shell.execute_reply.started": "2022-07-26T06:10:16.966784Z"
        },
        "id": "8VyOwmouf713",
        "colab": {
          "base_uri": "https://localhost:8080/"
        },
        "outputId": "214bef57-3fa9-4624-9d22-d733dce0c8e2"
      },
      "outputs": [
        {
          "output_type": "execute_result",
          "data": {
            "text/plain": [
              "GridSearchCV(cv=5, estimator=SVC(),\n",
              "             param_grid={'C': [0.01, 0.1, 1, 10, 100, 1000],\n",
              "                         'gamma': [1, 0.1, 0.01, 0.001, 0.0001],\n",
              "                         'kernel': ['linear', 'poly', 'rbf']})"
            ]
          },
          "metadata": {},
          "execution_count": 355
        }
      ],
      "source": [
        "grid = GridSearchCV(svm_model, param_grid=param_grid, cv=5)\n",
        "grid.fit(X_train, train_y)"
      ]
    },
    {
      "cell_type": "code",
      "source": [
        "grid.best_estimator_.get_params()"
      ],
      "metadata": {
        "colab": {
          "base_uri": "https://localhost:8080/"
        },
        "id": "pTUe0EPY9KmR",
        "outputId": "e82e35db-f750-4b26-d577-378307244388"
      },
      "execution_count": 356,
      "outputs": [
        {
          "output_type": "execute_result",
          "data": {
            "text/plain": [
              "{'C': 10,\n",
              " 'break_ties': False,\n",
              " 'cache_size': 200,\n",
              " 'class_weight': None,\n",
              " 'coef0': 0.0,\n",
              " 'decision_function_shape': 'ovr',\n",
              " 'degree': 3,\n",
              " 'gamma': 0.01,\n",
              " 'kernel': 'rbf',\n",
              " 'max_iter': -1,\n",
              " 'probability': False,\n",
              " 'random_state': None,\n",
              " 'shrinking': True,\n",
              " 'tol': 0.001,\n",
              " 'verbose': False}"
            ]
          },
          "metadata": {},
          "execution_count": 356
        }
      ]
    },
    {
      "cell_type": "code",
      "source": [
        "\n",
        "final_model_svc = svm.SVC(C=10, kernel= 'rbf' , break_ties=False, cache_size=200, class_weight=None, coef0=0 ,decision_function_shape='ovr', \n",
        "                          degree=3, gamma=0.01, max_iter=-1, probability=False, random_state=None, shrinking=True, tol=0.001, verbose=False)\n",
        "\n",
        "final_model_svc.fit(X_train, train_y)"
      ],
      "metadata": {
        "colab": {
          "base_uri": "https://localhost:8080/"
        },
        "id": "lJ_jr5sNZhiu",
        "outputId": "956f62d4-1753-4989-87d4-eb1ffac03512"
      },
      "execution_count": 360,
      "outputs": [
        {
          "output_type": "execute_result",
          "data": {
            "text/plain": [
              "SVC(C=10, coef0=0, gamma=0.01)"
            ]
          },
          "metadata": {},
          "execution_count": 360
        }
      ]
    },
    {
      "cell_type": "markdown",
      "metadata": {
        "id": "etXHLN_Xf714"
      },
      "source": [
        "## 🟣 Predict"
      ]
    },
    {
      "cell_type": "code",
      "execution_count": 361,
      "metadata": {
        "execution": {
          "iopub.status.busy": "2022-07-26T06:10:16.973408Z",
          "iopub.status.idle": "2022-07-26T06:10:16.973783Z",
          "shell.execute_reply": "2022-07-26T06:10:16.973613Z",
          "shell.execute_reply.started": "2022-07-26T06:10:16.973586Z"
        },
        "id": "1qVOP6r8f714"
      },
      "outputs": [],
      "source": [
        "pred_y_SVC = final_model_svc.predict(X_test)\n"
      ]
    },
    {
      "cell_type": "markdown",
      "metadata": {
        "id": "6fNflVpSf714"
      },
      "source": [
        "## 🟣 Evaluating the Model"
      ]
    },
    {
      "cell_type": "markdown",
      "metadata": {
        "id": "qKP2JjOKbn7U"
      },
      "source": [
        "### 🟣 Confusion Matrix"
      ]
    },
    {
      "cell_type": "code",
      "execution_count": 362,
      "metadata": {
        "execution": {
          "iopub.status.busy": "2022-07-26T06:10:16.960527Z",
          "iopub.status.idle": "2022-07-26T06:10:16.960898Z",
          "shell.execute_reply": "2022-07-26T06:10:16.960710Z",
          "shell.execute_reply.started": "2022-07-26T06:10:16.960687Z"
        },
        "colab": {
          "base_uri": "https://localhost:8080/"
        },
        "outputId": "1ad54542-b8b6-456d-ad0c-fef9fd49a55f",
        "id": "mn7AOGUbbn7U"
      },
      "outputs": [
        {
          "output_type": "execute_result",
          "data": {
            "text/plain": [
              "array([[137,  17],\n",
              "       [ 34,  80]])"
            ]
          },
          "metadata": {},
          "execution_count": 362
        }
      ],
      "source": [
        "cm = confusion_matrix(test_y, pred_y_SVC)\n",
        "cm"
      ]
    },
    {
      "cell_type": "markdown",
      "metadata": {
        "id": "3WUMvgZxbn7U"
      },
      "source": [
        "### Classification Report"
      ]
    },
    {
      "cell_type": "code",
      "execution_count": 363,
      "metadata": {
        "execution": {
          "iopub.status.busy": "2022-07-26T06:10:16.962507Z",
          "iopub.status.idle": "2022-07-26T06:10:16.962816Z",
          "shell.execute_reply": "2022-07-26T06:10:16.962672Z",
          "shell.execute_reply.started": "2022-07-26T06:10:16.962657Z"
        },
        "colab": {
          "base_uri": "https://localhost:8080/"
        },
        "outputId": "7554f9eb-bed5-4d76-e578-4d04738069a2",
        "id": "PXSaOaS0bn7U"
      },
      "outputs": [
        {
          "output_type": "stream",
          "name": "stdout",
          "text": [
            "              precision    recall  f1-score   support\n",
            "\n",
            "        Gone       0.80      0.89      0.84       154\n",
            "    Survived       0.82      0.70      0.76       114\n",
            "\n",
            "    accuracy                           0.81       268\n",
            "   macro avg       0.81      0.80      0.80       268\n",
            "weighted avg       0.81      0.81      0.81       268\n",
            "\n"
          ]
        }
      ],
      "source": [
        "target_names = ['Gone', 'Survived']\n",
        "cr = classification_report(test_y, pred_y_SVC, target_names = target_names )\n",
        "print(cr)"
      ]
    },
    {
      "cell_type": "markdown",
      "metadata": {
        "id": "FhdgyBcDbn7V"
      },
      "source": [
        "### Plot Confusion Matrix"
      ]
    },
    {
      "cell_type": "code",
      "execution_count": 365,
      "metadata": {
        "colab": {
          "base_uri": "https://localhost:8080/",
          "height": 334
        },
        "outputId": "8c9fb4d0-748c-45ba-b946-0f7d8b76cbab",
        "id": "iAWmhD2sbn7V"
      },
      "outputs": [
        {
          "output_type": "stream",
          "name": "stderr",
          "text": [
            "/usr/local/lib/python3.7/dist-packages/sklearn/utils/deprecation.py:87: FutureWarning: Function plot_confusion_matrix is deprecated; Function `plot_confusion_matrix` is deprecated in 1.0 and will be removed in 1.2. Use one of the class methods: ConfusionMatrixDisplay.from_predictions or ConfusionMatrixDisplay.from_estimator.\n",
            "  warnings.warn(msg, category=FutureWarning)\n"
          ]
        },
        {
          "output_type": "display_data",
          "data": {
            "text/plain": [
              "<Figure size 432x288 with 2 Axes>"
            ],
            "image/png": "[encoded data removed]"
          },
          "metadata": {
            "needs_background": "light"
          }
        }
      ],
      "source": [
        "plot_confusion_matrix(final_model_svc , X_test , test_y )\n",
        "plt.show()"
      ]
    },
    {
      "cell_type": "markdown",
      "metadata": {
        "id": "ZskciuDnbn7V"
      },
      "source": [
        "### 🟣Acuracy"
      ]
    },
    {
      "cell_type": "code",
      "execution_count": 366,
      "metadata": {
        "colab": {
          "base_uri": "https://localhost:8080/"
        },
        "outputId": "432deb2f-aba3-4570-c28b-9b3c5a4f1edf",
        "id": "9OixB9p_bn7V"
      },
      "outputs": [
        {
          "output_type": "execute_result",
          "data": {
            "text/plain": [
              "0.8097014925373134"
            ]
          },
          "metadata": {},
          "execution_count": 366
        }
      ],
      "source": [
        "acc_SVC = accuracy_score(test_y, pred_y_SVC)\n",
        "acc_SVC"
      ]
    },
    {
      "cell_type": "markdown",
      "metadata": {
        "id": "WPWMFegGbn7V"
      },
      "source": [
        "### 🟣 Precision Score"
      ]
    },
    {
      "cell_type": "code",
      "execution_count": 367,
      "metadata": {
        "colab": {
          "base_uri": "https://localhost:8080/"
        },
        "outputId": "1b2255f9-8eb6-43d3-bd79-42a7285069b4",
        "id": "9ptZcP1ebn7V"
      },
      "outputs": [
        {
          "output_type": "execute_result",
          "data": {
            "text/plain": [
              "0.8247422680412371"
            ]
          },
          "metadata": {},
          "execution_count": 367
        }
      ],
      "source": [
        "p_score_SVC = precision_score(test_y, pred_y_SVC)\n",
        "p_score_SVC"
      ]
    },
    {
      "cell_type": "markdown",
      "metadata": {
        "id": "LeNPFTJobn7W"
      },
      "source": [
        "### 🟣 Recall score"
      ]
    },
    {
      "cell_type": "code",
      "execution_count": 368,
      "metadata": {
        "colab": {
          "base_uri": "https://localhost:8080/"
        },
        "outputId": "857a1f71-72a8-4a0e-8651-ac8b17ca5f06",
        "id": "URE64IHHbn7W"
      },
      "outputs": [
        {
          "output_type": "execute_result",
          "data": {
            "text/plain": [
              "0.7017543859649122"
            ]
          },
          "metadata": {},
          "execution_count": 368
        }
      ],
      "source": [
        "r_score_SVC = recall_score(test_y, pred_y_SVC)\n",
        "r_score_SVC"
      ]
    },
    {
      "cell_type": "markdown",
      "metadata": {
        "id": "hCGiuJx0bn7W"
      },
      "source": [
        "### 🟣 F1-score"
      ]
    },
    {
      "cell_type": "code",
      "execution_count": 369,
      "metadata": {
        "colab": {
          "base_uri": "https://localhost:8080/"
        },
        "outputId": "b6c4e187-fe12-4ee1-c616-bddfffe97438",
        "id": "MPRCl2uXbn7W"
      },
      "outputs": [
        {
          "output_type": "execute_result",
          "data": {
            "text/plain": [
              "0.7582938388625592"
            ]
          },
          "metadata": {},
          "execution_count": 369
        }
      ],
      "source": [
        "f_score_SVC = f1_score(test_y, pred_y_SVC)\n",
        "f_score_SVC"
      ]
    },
    {
      "cell_type": "markdown",
      "metadata": {
        "id": "Vt2A9CnJf716"
      },
      "source": [
        "# Step22: Create DataFrame From Accuracy & Precision & Recall & F1-score(Final Model)"
      ]
    },
    {
      "cell_type": "code",
      "execution_count": 370,
      "metadata": {
        "id": "nZen1wpef717"
      },
      "outputs": [],
      "source": [
        "eval_SVC = pd.DataFrame([acc_SVC*100, p_score_SVC*100, r_score_SVC*100, f_score_SVC*100],['Accuracy' , 'Precision' , 'Recall' , 'F1-score'],['precent'])"
      ]
    },
    {
      "cell_type": "markdown",
      "metadata": {
        "id": "RGgsqS_Yf717"
      },
      "source": [
        "# Step23: Create DataFrame From Accuracy & Precision & Recall & F1-score\n",
        "<hr>\n",
        "<h3>Concanate All Models dataframes (Step10, Step17, Step22)"
      ]
    },
    {
      "cell_type": "code",
      "execution_count": 395,
      "metadata": {
        "id": "5g4ZuoEif72E"
      },
      "outputs": [],
      "source": [
        "eval_df = eval_LR\n",
        "eval_df.rename(columns = {'precent':'Logestic Regression'}, inplace = True)\n",
        "\n",
        "eval_df['KNN'] = eval_KNN['precent']\n",
        "\n",
        "eval_df['SVC'] = eval_SVC['precent']"
      ]
    },
    {
      "cell_type": "code",
      "source": [
        "eval_df"
      ],
      "metadata": {
        "colab": {
          "base_uri": "https://localhost:8080/",
          "height": 175
        },
        "id": "hSPSR6nyentL",
        "outputId": "bffc413f-259d-44be-9642-5aa122bf5ea4"
      },
      "execution_count": 396,
      "outputs": [
        {
          "output_type": "execute_result",
          "data": {
            "text/plain": [
              "           Logestic Regression        KNN        SVC\n",
              "Accuracy             78.358209  82.089552  80.970149\n",
              "Precision            77.450980  86.666667  82.474227\n",
              "Recall               69.298246  68.421053  70.175439\n",
              "F1-score             73.148148  76.470588  75.829384"
            ],
            "text/html": [
              "\n",
              "  <div id=\"df-e1a77a9b-abd4-42bc-91ad-3eb6cda7f928\">\n",
              "    <div class=\"colab-df-container\">\n",
              "      <div>\n",
              "<style scoped>\n",
              "    .dataframe tbody tr th:only-of-type {\n",
              "        vertical-align: middle;\n",
              "    }\n",
              "\n",
              "    .dataframe tbody tr th {\n",
              "        vertical-align: top;\n",
              "    }\n",
              "\n",
              "    .dataframe thead th {\n",
              "        text-align: right;\n",
              "    }\n",
              "</style>\n",
              "<table border=\"1\" class=\"dataframe\">\n",
              "  <thead>\n",
              "    <tr style=\"text-align: right;\">\n",
              "      <th></th>\n",
              "      <th>Logestic Regression</th>\n",
              "      <th>KNN</th>\n",
              "      <th>SVC</th>\n",
              "    </tr>\n",
              "  </thead>\n",
              "  <tbody>\n",
              "    <tr>\n",
              "      <th>Accuracy</th>\n",
              "      <td>78.358209</td>\n",
              "      <td>82.089552</td>\n",
              "      <td>80.970149</td>\n",
              "    </tr>\n",
              "    <tr>\n",
              "      <th>Precision</th>\n",
              "      <td>77.450980</td>\n",
              "      <td>86.666667</td>\n",
              "      <td>82.474227</td>\n",
              "    </tr>\n",
              "    <tr>\n",
              "      <th>Recall</th>\n",
              "      <td>69.298246</td>\n",
              "      <td>68.421053</td>\n",
              "      <td>70.175439</td>\n",
              "    </tr>\n",
              "    <tr>\n",
              "      <th>F1-score</th>\n",
              "      <td>73.148148</td>\n",
              "      <td>76.470588</td>\n",
              "      <td>75.829384</td>\n",
              "    </tr>\n",
              "  </tbody>\n",
              "</table>\n",
              "</div>\n",
              "      <button class=\"colab-df-convert\" onclick=\"convertToInteractive('df-e1a77a9b-abd4-42bc-91ad-3eb6cda7f928')\"\n",
              "              title=\"Convert this dataframe to an interactive table.\"\n",
              "              style=\"display:none;\">\n",
              "        \n",
              "  <svg xmlns=\"http://www.w3.org/2000/svg\" height=\"24px\"viewBox=\"0 0 24 24\"\n",
              "       width=\"24px\">\n",
              "    <path d=\"M0 0h24v24H0V0z\" fill=\"none\"/>\n",
              "    <path d=\"M18.56 5.44l.94 2.06.94-2.06 2.06-.94-2.06-.94-.94-2.06-.94 2.06-2.06.94zm-11 1L8.5 8.5l.94-2.06 2.06-.94-2.06-.94L8.5 2.5l-.94 2.06-2.06.94zm10 10l.94 2.06.94-2.06 2.06-.94-2.06-.94-.94-2.06-.94 2.06-2.06.94z\"/><path d=\"M17.41 7.96l-1.37-1.37c-.4-.4-.92-.59-1.43-.59-.52 0-1.04.2-1.43.59L10.3 9.45l-7.72 7.72c-.78.78-.78 2.05 0 2.83L4 21.41c.39.39.9.59 1.41.59.51 0 1.02-.2 1.41-.59l7.78-7.78 2.81-2.81c.8-.78.8-2.07 0-2.86zM5.41 20L4 18.59l7.72-7.72 1.47 1.35L5.41 20z\"/>\n",
              "  </svg>\n",
              "      </button>\n",
              "      \n",
              "  <style>\n",
              "    .colab-df-container {\n",
              "      display:flex;\n",
              "      flex-wrap:wrap;\n",
              "      gap: 12px;\n",
              "    }\n",
              "\n",
              "    .colab-df-convert {\n",
              "      background-color: #E8F0FE;\n",
              "      border: none;\n",
              "      border-radius: 50%;\n",
              "      cursor: pointer;\n",
              "      display: none;\n",
              "      fill: #1967D2;\n",
              "      height: 32px;\n",
              "      padding: 0 0 0 0;\n",
              "      width: 32px;\n",
              "    }\n",
              "\n",
              "    .colab-df-convert:hover {\n",
              "      background-color: #E2EBFA;\n",
              "      box-shadow: 0px 1px 2px rgba(60, 64, 67, 0.3), 0px 1px 3px 1px rgba(60, 64, 67, 0.15);\n",
              "      fill: #174EA6;\n",
              "    }\n",
              "\n",
              "    [theme=dark] .colab-df-convert {\n",
              "      background-color: #3B4455;\n",
              "      fill: #D2E3FC;\n",
              "    }\n",
              "\n",
              "    [theme=dark] .colab-df-convert:hover {\n",
              "      background-color: #434B5C;\n",
              "      box-shadow: 0px 1px 3px 1px rgba(0, 0, 0, 0.15);\n",
              "      filter: drop-shadow(0px 1px 2px rgba(0, 0, 0, 0.3));\n",
              "      fill: #FFFFFF;\n",
              "    }\n",
              "  </style>\n",
              "\n",
              "      <script>\n",
              "        const buttonEl =\n",
              "          document.querySelector('#df-e1a77a9b-abd4-42bc-91ad-3eb6cda7f928 button.colab-df-convert');\n",
              "        buttonEl.style.display =\n",
              "          google.colab.kernel.accessAllowed ? 'block' : 'none';\n",
              "\n",
              "        async function convertToInteractive(key) {\n",
              "          const element = document.querySelector('#df-e1a77a9b-abd4-42bc-91ad-3eb6cda7f928');\n",
              "          const dataTable =\n",
              "            await google.colab.kernel.invokeFunction('convertToInteractive',\n",
              "                                                     [key], {});\n",
              "          if (!dataTable) return;\n",
              "\n",
              "          const docLinkHtml = 'Like what you see? Visit the ' +\n",
              "            '<a target=\"_blank\" href=https://colab.research.google.com/notebooks/data_table.ipynb>data table notebook</a>'\n",
              "            + ' to learn more about interactive tables.';\n",
              "          element.innerHTML = '';\n",
              "          dataTable['output_type'] = 'display_data';\n",
              "          await google.colab.output.renderOutput(dataTable, element);\n",
              "          const docLink = document.createElement('div');\n",
              "          docLink.innerHTML = docLinkHtml;\n",
              "          element.appendChild(docLink);\n",
              "        }\n",
              "      </script>\n",
              "    </div>\n",
              "  </div>\n",
              "  "
            ]
          },
          "metadata": {},
          "execution_count": 396
        }
      ]
    },
    {
      "cell_type": "markdown",
      "metadata": {
        "id": "ZHROL-3lf72E"
      },
      "source": [
        "## Best Wishes!, Filoger\n",
        "<br>\n",
        "<br>\n",
        "<br>"
      ]
    }
  ],
  "metadata": {
    "kernelspec": {
      "display_name": "Python 3 (ipykernel)",
      "language": "python",
      "name": "python3"
    },
    "language_info": {
      "codemirror_mode": {
        "name": "ipython",
        "version": 3
      },
      "file_extension": ".py",
      "mimetype": "text/x-python",
      "name": "python",
      "nbconvert_exporter": "python",
      "pygments_lexer": "ipython3",
      "version": "3.9.13"
    },
    "colab": {
      "name": "Abdollahi_milad_lab09_Logistic regression & KNN & SVM.ipynb",
      "provenance": [],
      "collapsed_sections": [
        "W-Dolj9tf71l",
        "HsQZUpadf71m",
        "84KR3abwf71m",
        "EmMOrv1Nf71n",
        "PDhrnnaWf71n",
        "CSo5AfiEf71o",
        "aP7IETORf71o",
        "mMDaKD4Rf71o",
        "Ol2t2wotf71p",
        "3AtA3dI1f71p",
        "OtiYi5LIf71q",
        "853t7TQPf71q",
        "Wa9DTxXsf71r",
        "7UTpRXTlf71r",
        "fVyQycn7f71r",
        "4FFhrK3Ff71s",
        "DCY2fdbJf71s",
        "WWziAvF-f71s",
        "I5ZIJK0ef71t",
        "217ymeFtf71t",
        "XWB9egXYf71t",
        "4GJoDZjlf71u",
        "imwXgtfUf71u",
        "Rav11c2yf71u",
        "ExIgXdfnf71u",
        "g5W5yE7Ff71v",
        "o6h7KbAbf71v",
        "jQoNb5s8f71v",
        "ZGtBU_3if71w",
        "njAw3aIef71w",
        "dzSVBxVTf71w",
        "0Ko6wlz8f71w",
        "IQJBLsCIf71x",
        "KsRMhOUyf71x",
        "KhfoySZof71x",
        "Vp4H8yrdf71x",
        "vQlOygqff71y",
        "ao6sRjxef71y",
        "uDkNZlIDf71y",
        "4UleIuaif71z",
        "_tJ6wwfdf71z",
        "30ncdvyxf71z",
        "HFKXZIR7f710",
        "2KxDDO8Af710",
        "9QeO6Xb1f710",
        "3KxS9lDIf710",
        "fPQgnx_af710",
        "iNnS5P4Gf711",
        "7v1wN-y6f711",
        "TZvJlEeQf712",
        "RjDUu9Cif712",
        "QqvGY709f712",
        "6tdcxxwXf713",
        "oHxgt3U2f713",
        "mf620Jwhf713",
        "etXHLN_Xf714",
        "6fNflVpSf714",
        "G36nZ5iEf714",
        "b0b7WqqQf714",
        "OvZ8Az4ef715",
        "WrFND0zEf715",
        "_kBNjvbdf715",
        "HQ0Z6cd5f716",
        "GVBIeSJIf716",
        "RGgsqS_Yf717",
        "ZHROL-3lf72E"
      ],
      "include_colab_link": true
    }
  },
  "nbformat": 4,
  "nbformat_minor": 0
}